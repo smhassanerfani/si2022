{
 "cells": [
  {
   "cell_type": "code",
   "execution_count": 1,
   "metadata": {
    "collapsed": true,
    "ExecuteTime": {
     "start_time": "2023-04-17T10:58:57.529784Z",
     "end_time": "2023-04-17T10:58:57.659423Z"
    }
   },
   "outputs": [],
   "source": [
    "import numpy as np\n",
    "import pandas as pd\n",
    "import netCDF4 as nc"
   ]
  },
  {
   "cell_type": "markdown",
   "source": [
    "# Import Dataset"
   ],
   "metadata": {
    "collapsed": false
   }
  },
  {
   "cell_type": "code",
   "execution_count": 2,
   "outputs": [
    {
     "data": {
      "text/plain": "(2064782, 49)"
     },
     "execution_count": 2,
     "metadata": {},
     "output_type": "execute_result"
    }
   ],
   "source": [
    "ifmha = pd.read_csv('./tauraat-230322-150349.csv', converters={'site_no': str}, low_memory=False)\n",
    "ifmha.shape"
   ],
   "metadata": {
    "collapsed": false,
    "ExecuteTime": {
     "start_time": "2023-04-17T10:59:00.495359Z",
     "end_time": "2023-04-17T10:59:20.657978Z"
    }
   }
  },
  {
   "cell_type": "code",
   "execution_count": 3,
   "outputs": [
    {
     "data": {
      "text/plain": "(2064720, 49)"
     },
     "execution_count": 3,
     "metadata": {},
     "output_type": "execute_result"
    }
   ],
   "source": [
    "candidate_columns = ['chan_width', 'chan_discharge', 'chan_area', 'SLOPE','chan_max_depth']\n",
    "ifmha = ifmha[(ifmha[candidate_columns] > 0).all(axis=1)]\n",
    "ifmha.shape"
   ],
   "metadata": {
    "collapsed": false,
    "ExecuteTime": {
     "start_time": "2023-04-17T10:59:28.254512Z",
     "end_time": "2023-04-17T10:59:29.052231Z"
    }
   }
  },
  {
   "cell_type": "code",
   "execution_count": 4,
   "outputs": [],
   "source": [
    "from sklearn.linear_model import LinearRegression\n",
    "import time"
   ],
   "metadata": {
    "collapsed": false,
    "ExecuteTime": {
     "start_time": "2023-04-17T10:59:31.404152Z",
     "end_time": "2023-04-17T10:59:32.116416Z"
    }
   }
  },
  {
   "cell_type": "code",
   "execution_count": 5,
   "outputs": [
    {
     "name": "stdout",
     "output_type": "stream",
     "text": [
      "12.204399585723877\n"
     ]
    }
   ],
   "source": [
    "t1 = time.time()\n",
    "# Side Slope (Ss):\n",
    "ifmha_ss = ifmha.groupby(\"site_no\").apply(lambda x: LinearRegression(positive=True).fit(x['chan_max_depth'].values.reshape(-1, 1), 0.5 * x['chan_width'].values.reshape(-1, 1)).coef_[0,0]).reset_index(drop=False)\n",
    "# Bottom Width (Bw):\n",
    "ifmha_bw =  ifmha.groupby(\"site_no\").apply(lambda x: LinearRegression(positive=True).fit(x['chan_max_depth'].values.reshape(-1, 1), 0.5 * x['chan_width'].values.reshape(-1, 1)).intercept_[0] * 2.0).reset_index(drop=False)\n",
    "ifmha = pd.merge(ifmha, ifmha_ss, how=\"left\", on=[\"site_no\"])\n",
    "ifmha = pd.merge(ifmha, ifmha_bw, how=\"left\", on=[\"site_no\"])\n",
    "print(time.time() - t1)"
   ],
   "metadata": {
    "collapsed": false,
    "ExecuteTime": {
     "start_time": "2023-04-17T10:59:32.749034Z",
     "end_time": "2023-04-17T10:59:44.960422Z"
    }
   }
  },
  {
   "cell_type": "code",
   "execution_count": 6,
   "outputs": [],
   "source": [
    "ifmha.rename(columns={'0_x': 'side_slope', '0_y': 'chan_bottom_width'}, inplace=True)"
   ],
   "metadata": {
    "collapsed": false,
    "ExecuteTime": {
     "start_time": "2023-04-17T10:59:44.959424Z",
     "end_time": "2023-04-17T10:59:44.972403Z"
    }
   }
  },
  {
   "cell_type": "code",
   "execution_count": 7,
   "outputs": [
    {
     "data": {
      "text/plain": "    site_no      COMID   DASqKm  DASqMi           FTYPE    LatSite    LonSite  \\\n0  01010000  4289887.0  3473.19  1341.0  ArtificialPath  46.700556 -69.715556   \n1  01010000  4289887.0  3473.19  1341.0  ArtificialPath  46.700556 -69.715556   \n2  01010000  4289887.0  3473.19  1341.0  ArtificialPath  46.700556 -69.715556   \n3  01010000  4289887.0  3473.19  1341.0  ArtificialPath  46.700556 -69.715556   \n4  01010000  4289887.0  3473.19  1341.0  ArtificialPath  46.700556 -69.715556   \n\n      SLOPE STATE  STATE_CD  ...  site_visit_coll_agency_cd  \\\n0  0.003156    ME      23.0  ...                       USGS   \n1  0.003156    ME      23.0  ...                       USGS   \n2  0.003156    ME      23.0  ...                       USGS   \n3  0.003156    ME      23.0  ...                       USGS   \n4  0.003156    ME      23.0  ...                       USGS   \n\n                                 station_nm  streamflow_method tz_cd  \\\n0  St. John River at Ninemile Bridge, Maine              unspe   NaN   \n1  St. John River at Ninemile Bridge, Maine              QSCMM   NaN   \n2  St. John River at Ninemile Bridge, Maine              unspe   EDT   \n3  St. John River at Ninemile Bridge, Maine              unspe   NaN   \n4  St. John River at Ninemile Bridge, Maine              QSCMM   NaN   \n\n  velocity_method  vert_vel_desc chan_mean_depth chan_max_depth  side_slope  \\\n0           unkno           UNSP        0.766562       1.107819    10.49578   \n1           unkno           UNSP        2.612188       3.837696    10.49578   \n2           unkno           UNSP        1.766667       2.587080    10.49578   \n3           unkno           UNSP        0.962617       1.397805    10.49578   \n4           unkno           UNSP        0.821429       1.188973    10.49578   \n\n  chan_bottom_width  \n0        239.025255  \n1        239.025255  \n2        239.025255  \n3        239.025255  \n4        239.025255  \n\n[5 rows x 51 columns]",
      "text/html": "<div>\n<style scoped>\n    .dataframe tbody tr th:only-of-type {\n        vertical-align: middle;\n    }\n\n    .dataframe tbody tr th {\n        vertical-align: top;\n    }\n\n    .dataframe thead th {\n        text-align: right;\n    }\n</style>\n<table border=\"1\" class=\"dataframe\">\n  <thead>\n    <tr style=\"text-align: right;\">\n      <th></th>\n      <th>site_no</th>\n      <th>COMID</th>\n      <th>DASqKm</th>\n      <th>DASqMi</th>\n      <th>FTYPE</th>\n      <th>LatSite</th>\n      <th>LonSite</th>\n      <th>SLOPE</th>\n      <th>STATE</th>\n      <th>STATE_CD</th>\n      <th>...</th>\n      <th>site_visit_coll_agency_cd</th>\n      <th>station_nm</th>\n      <th>streamflow_method</th>\n      <th>tz_cd</th>\n      <th>velocity_method</th>\n      <th>vert_vel_desc</th>\n      <th>chan_mean_depth</th>\n      <th>chan_max_depth</th>\n      <th>side_slope</th>\n      <th>chan_bottom_width</th>\n    </tr>\n  </thead>\n  <tbody>\n    <tr>\n      <th>0</th>\n      <td>01010000</td>\n      <td>4289887.0</td>\n      <td>3473.19</td>\n      <td>1341.0</td>\n      <td>ArtificialPath</td>\n      <td>46.700556</td>\n      <td>-69.715556</td>\n      <td>0.003156</td>\n      <td>ME</td>\n      <td>23.0</td>\n      <td>...</td>\n      <td>USGS</td>\n      <td>St. John River at Ninemile Bridge, Maine</td>\n      <td>unspe</td>\n      <td>NaN</td>\n      <td>unkno</td>\n      <td>UNSP</td>\n      <td>0.766562</td>\n      <td>1.107819</td>\n      <td>10.49578</td>\n      <td>239.025255</td>\n    </tr>\n    <tr>\n      <th>1</th>\n      <td>01010000</td>\n      <td>4289887.0</td>\n      <td>3473.19</td>\n      <td>1341.0</td>\n      <td>ArtificialPath</td>\n      <td>46.700556</td>\n      <td>-69.715556</td>\n      <td>0.003156</td>\n      <td>ME</td>\n      <td>23.0</td>\n      <td>...</td>\n      <td>USGS</td>\n      <td>St. John River at Ninemile Bridge, Maine</td>\n      <td>QSCMM</td>\n      <td>NaN</td>\n      <td>unkno</td>\n      <td>UNSP</td>\n      <td>2.612188</td>\n      <td>3.837696</td>\n      <td>10.49578</td>\n      <td>239.025255</td>\n    </tr>\n    <tr>\n      <th>2</th>\n      <td>01010000</td>\n      <td>4289887.0</td>\n      <td>3473.19</td>\n      <td>1341.0</td>\n      <td>ArtificialPath</td>\n      <td>46.700556</td>\n      <td>-69.715556</td>\n      <td>0.003156</td>\n      <td>ME</td>\n      <td>23.0</td>\n      <td>...</td>\n      <td>USGS</td>\n      <td>St. John River at Ninemile Bridge, Maine</td>\n      <td>unspe</td>\n      <td>EDT</td>\n      <td>unkno</td>\n      <td>UNSP</td>\n      <td>1.766667</td>\n      <td>2.587080</td>\n      <td>10.49578</td>\n      <td>239.025255</td>\n    </tr>\n    <tr>\n      <th>3</th>\n      <td>01010000</td>\n      <td>4289887.0</td>\n      <td>3473.19</td>\n      <td>1341.0</td>\n      <td>ArtificialPath</td>\n      <td>46.700556</td>\n      <td>-69.715556</td>\n      <td>0.003156</td>\n      <td>ME</td>\n      <td>23.0</td>\n      <td>...</td>\n      <td>USGS</td>\n      <td>St. John River at Ninemile Bridge, Maine</td>\n      <td>unspe</td>\n      <td>NaN</td>\n      <td>unkno</td>\n      <td>UNSP</td>\n      <td>0.962617</td>\n      <td>1.397805</td>\n      <td>10.49578</td>\n      <td>239.025255</td>\n    </tr>\n    <tr>\n      <th>4</th>\n      <td>01010000</td>\n      <td>4289887.0</td>\n      <td>3473.19</td>\n      <td>1341.0</td>\n      <td>ArtificialPath</td>\n      <td>46.700556</td>\n      <td>-69.715556</td>\n      <td>0.003156</td>\n      <td>ME</td>\n      <td>23.0</td>\n      <td>...</td>\n      <td>USGS</td>\n      <td>St. John River at Ninemile Bridge, Maine</td>\n      <td>QSCMM</td>\n      <td>NaN</td>\n      <td>unkno</td>\n      <td>UNSP</td>\n      <td>0.821429</td>\n      <td>1.188973</td>\n      <td>10.49578</td>\n      <td>239.025255</td>\n    </tr>\n  </tbody>\n</table>\n<p>5 rows × 51 columns</p>\n</div>"
     },
     "execution_count": 7,
     "metadata": {},
     "output_type": "execute_result"
    }
   ],
   "source": [
    "ifmha.head()"
   ],
   "metadata": {
    "collapsed": false,
    "ExecuteTime": {
     "start_time": "2023-04-17T10:59:44.971405Z",
     "end_time": "2023-04-17T10:59:45.014336Z"
    }
   }
  },
  {
   "cell_type": "code",
   "execution_count": 8,
   "outputs": [
    {
     "data": {
      "text/plain": "(1970542, 51)"
     },
     "execution_count": 8,
     "metadata": {},
     "output_type": "execute_result"
    }
   ],
   "source": [
    "ifmha = ifmha[(ifmha['side_slope'] <= 12.0) & (ifmha['chan_bottom_width'] >= 0.0)]\n",
    "ifmha.shape"
   ],
   "metadata": {
    "collapsed": false,
    "ExecuteTime": {
     "start_time": "2023-04-17T10:59:44.985382Z",
     "end_time": "2023-04-17T10:59:45.990768Z"
    }
   }
  },
  {
   "cell_type": "code",
   "execution_count": 9,
   "outputs": [
    {
     "data": {
      "text/plain": "count    6169.000000\nmean      319.426487\nstd       271.648396\nmin        50.000000\n25%       154.000000\n50%       259.000000\n75%       390.000000\nmax      6580.000000\nName: site_no, dtype: float64"
     },
     "execution_count": 9,
     "metadata": {},
     "output_type": "execute_result"
    }
   ],
   "source": [
    "ifmha['site_no'].value_counts().describe()"
   ],
   "metadata": {
    "collapsed": false,
    "ExecuteTime": {
     "start_time": "2023-04-17T10:59:50.475289Z",
     "end_time": "2023-04-17T10:59:50.594098Z"
    }
   }
  },
  {
   "cell_type": "code",
   "execution_count": 10,
   "outputs": [],
   "source": [
    "ifmha['wetted_perimeter'] = ifmha['chan_bottom_width'] + (2 * ifmha['chan_max_depth'] * (1 + ifmha['side_slope']**2)**0.5)\n",
    "ifmha['hydraulic_radius'] = ifmha['chan_area'] / ifmha['wetted_perimeter']\n",
    "# tauraat['wetted_perimeter'] = tauraat['chan_width'] + 2 * tauraat['chan_mean_depth']"
   ],
   "metadata": {
    "collapsed": false,
    "ExecuteTime": {
     "start_time": "2023-04-17T11:00:00.699053Z",
     "end_time": "2023-04-17T11:00:00.758956Z"
    }
   }
  },
  {
   "cell_type": "code",
   "execution_count": 11,
   "outputs": [],
   "source": [
    "ifmha['manning_roughness'] = (1.49 * ifmha['SLOPE']**0.5 * ifmha['chan_area']**(5.0/3.0)) / (ifmha['chan_discharge'] * ifmha['wetted_perimeter']**(2.0/3.0))\n",
    "ifmha['jarrett_roughness'] = 0.39 * ifmha['SLOPE']**0.38 * ifmha['hydraulic_radius']**-0.16"
   ],
   "metadata": {
    "collapsed": false,
    "ExecuteTime": {
     "start_time": "2023-04-17T11:00:05.358244Z",
     "end_time": "2023-04-17T11:00:05.458083Z"
    }
   }
  },
  {
   "cell_type": "code",
   "execution_count": 12,
   "outputs": [
    {
     "data": {
      "text/plain": "count    2137.000000\nmean      244.973795\nstd       187.158591\nmin        16.000000\n25%       112.000000\n50%       198.000000\n75%       318.000000\nmax      2201.000000\nName: site_no, dtype: float64"
     },
     "execution_count": 12,
     "metadata": {},
     "output_type": "execute_result"
    }
   ],
   "source": [
    "ifmha_subset = ifmha[(ifmha['SLOPE']>0.002) & (ifmha['SLOPE']<0.04) & (ifmha['hydraulic_radius'] > 0.5)]\n",
    "ifmha_subset['site_no'].value_counts().describe()"
   ],
   "metadata": {
    "collapsed": false,
    "ExecuteTime": {
     "start_time": "2023-04-17T11:00:18.134491Z",
     "end_time": "2023-04-17T11:00:18.819391Z"
    }
   }
  },
  {
   "cell_type": "code",
   "execution_count": 13,
   "outputs": [],
   "source": [
    "manning_n = ifmha.groupby('site_no').apply(lambda x: x['manning_roughness'].median() if x['manning_roughness'].median() < 0.2 else np.nan).reset_index(drop=False).rename(columns={0: 'roughness'})\n",
    "jarret_n = ifmha_subset.groupby('site_no').apply(lambda x: x['jarrett_roughness'].median()).reset_index(drop=False).rename(columns={0: 'roughness'})"
   ],
   "metadata": {
    "collapsed": false,
    "ExecuteTime": {
     "start_time": "2023-04-17T11:01:00.397156Z",
     "end_time": "2023-04-17T11:01:02.165316Z"
    }
   }
  },
  {
   "cell_type": "code",
   "execution_count": 14,
   "outputs": [],
   "source": [
    "manning_n_com =  manning_n[manning_n['site_no'].isin(jarret_n['site_no'].tolist())]\n",
    "jarret_n_com =  jarret_n[jarret_n['site_no'].isin(manning_n['site_no'].tolist())]"
   ],
   "metadata": {
    "collapsed": false,
    "ExecuteTime": {
     "start_time": "2023-04-17T11:01:07.751157Z",
     "end_time": "2023-04-17T11:01:07.763137Z"
    }
   }
  },
  {
   "cell_type": "code",
   "execution_count": 15,
   "outputs": [
    {
     "data": {
      "text/plain": "(1895, 2)"
     },
     "execution_count": 15,
     "metadata": {},
     "output_type": "execute_result"
    }
   ],
   "source": [
    "manning_n_com[~manning_n_com['roughness'].isna()].shape"
   ],
   "metadata": {
    "collapsed": false,
    "ExecuteTime": {
     "start_time": "2023-04-17T11:01:09.773099Z",
     "end_time": "2023-04-17T11:01:09.786079Z"
    }
   }
  },
  {
   "cell_type": "code",
   "execution_count": 16,
   "outputs": [
    {
     "data": {
      "text/plain": "<Figure size 1200x300 with 3 Axes>",
      "image/png": "[encoded data removed]"
     },
     "metadata": {},
     "output_type": "display_data"
    }
   ],
   "source": [
    "import matplotlib\n",
    "import matplotlib.pyplot as plt\n",
    "import seaborn as sns\n",
    "sns.set(style = 'darkgrid')\n",
    "\n",
    "plt.rcParams.update({\n",
    "    # 'font.sans-serif': 'Comic Sans MS',\n",
    "    'font.family': 'serif',\n",
    "    'font.size'   : 40\n",
    "})\n",
    "\n",
    "# font = {'family' : 'serif',\n",
    "#         'weight' : 'normal',\n",
    "#         'size'   : 200}\n",
    "#\n",
    "# matplotlib.rc('font', **font)\n",
    "\n",
    "fig, (ax1, ax2, ax3) = plt.subplots(ncols=3, figsize=(12, 3), constrained_layout=True)\n",
    "\n",
    "ax1.hist(manning_n['roughness'].values, bins=30)\n",
    "ax2.hist(jarret_n['roughness'].values, bins=30)\n",
    "data1 = manning_n_com[~manning_n_com['roughness'].isna()]\n",
    "data2 = jarret_n_com[jarret_n_com['site_no'].isin(data1['site_no'].tolist())]\n",
    "ax3.hist(data1['roughness'].values, bins=30, range=(np.min(data1['roughness']), np.max(data1['roughness'])), alpha=0.7, label= \"Manning\" )\n",
    "ax3.hist(data2['roughness'].values, bins=30, range=(np.min(data1['roughness']), np.max(data1['roughness'])), alpha=0.5, label=\"Jarret\")\n",
    "ax3.legend(fontsize=12)\n",
    "\n",
    "plt.savefig(f'./roughness.svg', format='svg', bbox_inches='tight', pad_inches=0.1)\n",
    "plt.show()"
   ],
   "metadata": {
    "collapsed": false,
    "ExecuteTime": {
     "start_time": "2023-04-17T11:01:27.385127Z",
     "end_time": "2023-04-17T11:01:28.764580Z"
    }
   }
  },
  {
   "cell_type": "code",
   "execution_count": 17,
   "outputs": [
    {
     "name": "stdout",
     "output_type": "stream",
     "text": [
      "<class 'netCDF4._netCDF4.Dataset'>\n",
      "root group (NETCDF4_CLASSIC data model, file format HDF5):\n",
      "    Convention: CF-1.6\n",
      "    featureType: timeSeries\n",
      "    processing_notes: This file was produced Fri Apr 12 07:16:15 2019 by Kevin Sampson (NCAR) and has the following attributes: \n",
      "   This file uses the NHDPlus v21 \"flattened\" geodatabase: NHDPlusV21_National_Flattened.gdb.\n",
      "   This file excludes reaches in Puerto Rico and Hawaii.\n",
      "   Routing using Arc-Hydro derived segments for Regions 01a, 02b, 09a, 10i, 10h, 13a, 13b, 13d, 15a, 15b, 17b, 18a.\n",
      "   Topology fixes using: Topology_Fixer.csv.\n",
      "   NHDFlowlines removed using: Remove_COMIDs_NHDFLowline_Network.csv.\n",
      "   Gage preference list: numberOf100QualityObs.2017-03-15.csv.\n",
      "   Gage subset list: numberOf100QualityObs.2017-03-15.csv.\n",
      "   Gage additions made using: Add_Gage_Association.csv.\n",
      "   Gage-to-flowline association changes made using: Bad_Gage_Associations.csv.\n",
      "   Tidal-influenced gages removed using: TidalGageList_20170316.csv.\n",
      "   Waterbody associations using spatial join with Lake feature class Input_Waterbodies_NWM_v2_1.shp.\n",
      "    region: CONUS\n",
      "    history: Thu Sep 19 11:44:20 2019: ncatted -O -a version,global,c,c,NWM v2.1 alpha RouteLink_NWMv2.1.nc\n",
      "Thu Sep 19 11:43:55 2019: ncatted -O -a region,global,c,c,CONUS RouteLink_NWMv2.1.nc\n",
      "Created Fri Apr 12 10:38:40 2019\n",
      "    NCO: netCDF Operators version 4.7.9 (Homepage = http://nco.sf.net, Code = http://github.com/nco/nco)\n",
      "    version: NWM v2.1\n",
      "    dimensions(sizes): feature_id(2776738), IDLength(15)\n",
      "    variables(dimensions): int32 link(feature_id), int32 from(feature_id), int32 to(feature_id), float32 lon(feature_id), float32 lat(feature_id), float32 alt(feature_id), int32 order(feature_id), float32 Qi(feature_id), float32 MusK(feature_id), float32 MusX(feature_id), float32 Length(feature_id), float32 n(feature_id), float32 So(feature_id), float32 ChSlp(feature_id), float32 BtmWdth(feature_id), int32 NHDWaterbodyComID(feature_id), float32 time(), |S1 gages(feature_id, IDLength), int16 Kchan(feature_id), int32 ascendingIndex(feature_id), float32 nCC(feature_id), float32 TopWdthCC(feature_id), float32 TopWdth(feature_id)\n",
      "    groups: \n"
     ]
    }
   ],
   "source": [
    "# https://www.hydroshare.org/resource/0a596929a3e5411bb0032a8de35e5089/\n",
    "ds = nc.Dataset('./data/RouteLink_CONUS.nc/RouteLink_CONUS.nc')\n",
    "print(ds)"
   ],
   "metadata": {
    "collapsed": false,
    "ExecuteTime": {
     "start_time": "2023-04-17T11:01:40.485065Z",
     "end_time": "2023-04-17T11:01:40.502038Z"
    }
   }
  },
  {
   "cell_type": "code",
   "execution_count": 6,
   "outputs": [
    {
     "name": "stdout",
     "output_type": "stream",
     "text": [
      "{'Convention': 'CF-1.6', 'featureType': 'timeSeries', 'processing_notes': 'This file was produced Fri Apr 12 07:16:15 2019 by Kevin Sampson (NCAR) and has the following attributes: \\n   This file uses the NHDPlus v21 \"flattened\" geodatabase: NHDPlusV21_National_Flattened.gdb.\\n   This file excludes reaches in Puerto Rico and Hawaii.\\n   Routing using Arc-Hydro derived segments for Regions 01a, 02b, 09a, 10i, 10h, 13a, 13b, 13d, 15a, 15b, 17b, 18a.\\n   Topology fixes using: Topology_Fixer.csv.\\n   NHDFlowlines removed using: Remove_COMIDs_NHDFLowline_Network.csv.\\n   Gage preference list: numberOf100QualityObs.2017-03-15.csv.\\n   Gage subset list: numberOf100QualityObs.2017-03-15.csv.\\n   Gage additions made using: Add_Gage_Association.csv.\\n   Gage-to-flowline association changes made using: Bad_Gage_Associations.csv.\\n   Tidal-influenced gages removed using: TidalGageList_20170316.csv.\\n   Waterbody associations using spatial join with Lake feature class Input_Waterbodies_NWM_v2_1.shp.', 'region': 'CONUS', 'history': 'Thu Sep 19 11:44:20 2019: ncatted -O -a version,global,c,c,NWM v2.1 alpha RouteLink_NWMv2.1.nc\\nThu Sep 19 11:43:55 2019: ncatted -O -a region,global,c,c,CONUS RouteLink_NWMv2.1.nc\\nCreated Fri Apr 12 10:38:40 2019', 'NCO': 'netCDF Operators version 4.7.9 (Homepage = http://nco.sf.net, Code = http://github.com/nco/nco)', 'version': 'NWM v2.1'}\n"
     ]
    }
   ],
   "source": [
    "print(ds.__dict__)"
   ],
   "metadata": {
    "collapsed": false,
    "ExecuteTime": {
     "start_time": "2023-04-06T13:17:50.254381Z",
     "end_time": "2023-04-06T13:17:50.265364Z"
    }
   }
  },
  {
   "cell_type": "code",
   "execution_count": 8,
   "outputs": [
    {
     "name": "stdout",
     "output_type": "stream",
     "text": [
      "<class 'netCDF4._netCDF4.Variable'>\n",
      "int32 link(feature_id)\n",
      "    long_name: Link ID (NHDFlowline_network COMID)\n",
      "    cf_role: timeseries_id\n",
      "    coordinates: lat lon\n",
      "unlimited dimensions: \n",
      "current shape = (2776738,)\n",
      "filling on, default _FillValue of -2147483647 used\n",
      "<class 'netCDF4._netCDF4.Variable'>\n",
      "int32 from(feature_id)\n",
      "    long_name: From Link ID (PlusFlow table FROMCOMID for every TOCOMID)\n",
      "    coordinates: lat lon\n",
      "unlimited dimensions: \n",
      "current shape = (2776738,)\n",
      "filling on, default _FillValue of -2147483647 used\n",
      "<class 'netCDF4._netCDF4.Variable'>\n",
      "int32 to(feature_id)\n",
      "    long_name: To Link ID (PlusFlow table TOCOMID for every FROMCOMID)\n",
      "    coordinates: lat lon\n",
      "unlimited dimensions: \n",
      "current shape = (2776738,)\n",
      "filling on, default _FillValue of -2147483647 used\n",
      "<class 'netCDF4._netCDF4.Variable'>\n",
      "float32 lon(feature_id)\n",
      "    long_name: longitude of the segment midpoint\n",
      "    units: degrees_east\n",
      "    standard_name: longitude\n",
      "    coordinates: lat lon\n",
      "unlimited dimensions: \n",
      "current shape = (2776738,)\n",
      "filling on, default _FillValue of 9.969209968386869e+36 used\n",
      "<class 'netCDF4._netCDF4.Variable'>\n",
      "float32 lat(feature_id)\n",
      "    long_name: latitude of the segment midpoint\n",
      "    units: degrees_north\n",
      "    standard_name: latitude\n",
      "    coordinates: lat lon\n",
      "unlimited dimensions: \n",
      "current shape = (2776738,)\n",
      "filling on, default _FillValue of 9.969209968386869e+36 used\n",
      "<class 'netCDF4._netCDF4.Variable'>\n",
      "float32 alt(feature_id)\n",
      "    long_name: Elevation in meters from the North American Vertical Datum 1988 (NADV88) at start node (MaxElevSmo)\n",
      "    standard_name: height\n",
      "    units: m\n",
      "    positive: up\n",
      "    axis: Z\n",
      "    coordinates: lat lon\n",
      "unlimited dimensions: \n",
      "current shape = (2776738,)\n",
      "filling on, default _FillValue of 9.969209968386869e+36 used\n",
      "<class 'netCDF4._netCDF4.Variable'>\n",
      "int32 order(feature_id)\n",
      "    long_name: Stream order (Strahler)\n",
      "    coordinates: lat lon\n",
      "unlimited dimensions: \n",
      "current shape = (2776738,)\n",
      "filling on, default _FillValue of -2147483647 used\n",
      "<class 'netCDF4._netCDF4.Variable'>\n",
      "float32 Qi(feature_id)\n",
      "    long_name: Initial flow in link (CMS)\n",
      "    coordinates: lat lon\n",
      "unlimited dimensions: \n",
      "current shape = (2776738,)\n",
      "filling on, default _FillValue of 9.969209968386869e+36 used\n",
      "<class 'netCDF4._netCDF4.Variable'>\n",
      "float32 MusK(feature_id)\n",
      "    long_name: Muskingum routing time (s)\n",
      "    coordinates: lat lon\n",
      "unlimited dimensions: \n",
      "current shape = (2776738,)\n",
      "filling on, default _FillValue of 9.969209968386869e+36 used\n",
      "<class 'netCDF4._netCDF4.Variable'>\n",
      "float32 MusX(feature_id)\n",
      "    long_name: Muskingum weighting coefficient\n",
      "    coordinates: lat lon\n",
      "unlimited dimensions: \n",
      "current shape = (2776738,)\n",
      "filling on, default _FillValue of 9.969209968386869e+36 used\n",
      "<class 'netCDF4._netCDF4.Variable'>\n",
      "float32 Length(feature_id)\n",
      "    long_name: Stream length (m)\n",
      "    coordinates: lat lon\n",
      "unlimited dimensions: \n",
      "current shape = (2776738,)\n",
      "filling on, default _FillValue of 9.969209968386869e+36 used\n",
      "<class 'netCDF4._netCDF4.Variable'>\n",
      "float32 n(feature_id)\n",
      "    long_name: Manning's roughness\n",
      "    coordinates: lat lon\n",
      "unlimited dimensions: \n",
      "current shape = (2776738,)\n",
      "filling on, default _FillValue of 9.969209968386869e+36 used\n",
      "<class 'netCDF4._netCDF4.Variable'>\n",
      "float32 So(feature_id)\n",
      "    long_name: Slope (meters/meters from NHDFlowline_network.SLOPE)\n",
      "    coordinates: lat lon\n",
      "unlimited dimensions: \n",
      "current shape = (2776738,)\n",
      "filling on, default _FillValue of 9.969209968386869e+36 used\n",
      "<class 'netCDF4._netCDF4.Variable'>\n",
      "float32 ChSlp(feature_id)\n",
      "    long_name: Channel side slope\n",
      "    coordinates: lat lon\n",
      "unlimited dimensions: \n",
      "current shape = (2776738,)\n",
      "filling on, default _FillValue of 9.969209968386869e+36 used\n",
      "<class 'netCDF4._netCDF4.Variable'>\n",
      "float32 BtmWdth(feature_id)\n",
      "    long_name: Bottom width of channel (m)\n",
      "    units: m\n",
      "    coordinates: lat lon\n",
      "unlimited dimensions: \n",
      "current shape = (2776738,)\n",
      "filling on, default _FillValue of 9.969209968386869e+36 used\n",
      "<class 'netCDF4._netCDF4.Variable'>\n",
      "int32 NHDWaterbodyComID(feature_id)\n",
      "    coordinates: lat lon\n",
      "    long_name: ComID of NHDWaterbody feature associated using spatial join (intersection) between NHDFlowline_network and Waterbodies\n",
      "unlimited dimensions: \n",
      "current shape = (2776738,)\n",
      "filling on, default _FillValue of -2147483647 used\n",
      "<class 'netCDF4._netCDF4.Variable'>\n",
      "float32 time()\n",
      "    standard_name: time\n",
      "    long_name: time of measurement\n",
      "    units: days since 2000-01-01 00:00:00\n",
      "unlimited dimensions: \n",
      "current shape = ()\n",
      "filling on, default _FillValue of 9.969209968386869e+36 used\n",
      "<class 'netCDF4._netCDF4.Variable'>\n",
      "|S1 gages(feature_id, IDLength)\n",
      "    long_name: NHD Gage Event ID from SOURCE_FEA field in Gages feature class\n",
      "    coordinates: lat lon\n",
      "unlimited dimensions: \n",
      "current shape = (2776738, 15)\n",
      "filling on, default _FillValue of \u0000 used\n",
      "<class 'netCDF4._netCDF4.Variable'>\n",
      "int16 Kchan(feature_id)\n",
      "    long_name: channel conductivity\n",
      "    units: mm h-1\n",
      "    coordinates: lat lon\n",
      "unlimited dimensions: \n",
      "current shape = (2776738,)\n",
      "filling on, default _FillValue of -32767 used\n",
      "<class 'netCDF4._netCDF4.Variable'>\n",
      "int32 ascendingIndex(feature_id)\n",
      "    long_name: Index to use for sorting IDs (ascending)\n",
      "unlimited dimensions: \n",
      "current shape = (2776738,)\n",
      "filling on, default _FillValue of -2147483647 used\n",
      "<class 'netCDF4._netCDF4.Variable'>\n",
      "float32 nCC(feature_id)\n",
      "    long_name: Compound Channel Manning's n\n",
      "    coordinates: lat lon\n",
      "unlimited dimensions: \n",
      "current shape = (2776738,)\n",
      "filling on, default _FillValue of 9.969209968386869e+36 used\n",
      "<class 'netCDF4._netCDF4.Variable'>\n",
      "float32 TopWdthCC(feature_id)\n",
      "    long_name: Compound Channel Top Width (m)\n",
      "    units: m\n",
      "    coordinates: lat lon\n",
      "unlimited dimensions: \n",
      "current shape = (2776738,)\n",
      "filling on, default _FillValue of 9.969209968386869e+36 used\n",
      "<class 'netCDF4._netCDF4.Variable'>\n",
      "float32 TopWdth(feature_id)\n",
      "    long_name: Top Width (m)\n",
      "    units: m\n",
      "    coordinates: lat lon\n",
      "unlimited dimensions: \n",
      "current shape = (2776738,)\n",
      "filling on, default _FillValue of 9.969209968386869e+36 used\n"
     ]
    }
   ],
   "source": [
    "for var in ds.variables.values():\n",
    "    print(var)"
   ],
   "metadata": {
    "collapsed": false,
    "ExecuteTime": {
     "start_time": "2023-04-06T13:20:07.663752Z",
     "end_time": "2023-04-06T13:20:07.673736Z"
    }
   }
  },
  {
   "cell_type": "code",
   "execution_count": 18,
   "outputs": [],
   "source": [
    "ds_dict = {'COMID': ds['link'][:], 'side_slope': 1/ds['ChSlp'][:], 'bottom_width': ds['BtmWdth'][:], 'compound_manning': ds['nCC'][:], 'manning': ds['n'][:]}"
   ],
   "metadata": {
    "collapsed": false,
    "ExecuteTime": {
     "start_time": "2023-04-17T11:01:56.943132Z",
     "end_time": "2023-04-17T11:01:57.042592Z"
    }
   }
  },
  {
   "cell_type": "code",
   "execution_count": 19,
   "outputs": [],
   "source": [
    "nwm = pd.DataFrame.from_dict(ds_dict)"
   ],
   "metadata": {
    "collapsed": false,
    "ExecuteTime": {
     "start_time": "2023-04-17T11:02:01.503968Z",
     "end_time": "2023-04-17T11:02:01.563872Z"
    }
   }
  },
  {
   "cell_type": "markdown",
   "source": [
    "## Channel Side Slope & Bottom Width"
   ],
   "metadata": {
    "collapsed": false
   }
  },
  {
   "cell_type": "code",
   "execution_count": 20,
   "outputs": [
    {
     "name": "stdout",
     "output_type": "stream",
     "text": [
      "60\n"
     ]
    }
   ],
   "source": [
    "ifmha_v1 = ifmha.drop_duplicates(subset='site_no', keep='first')\n",
    "print(np.sum(ifmha_v1['COMID'].value_counts() > 1)) # counting number of COMIDS that includes more than one gage station"
   ],
   "metadata": {
    "collapsed": false,
    "ExecuteTime": {
     "start_time": "2023-04-17T11:04:47.319021Z",
     "end_time": "2023-04-17T11:04:47.543660Z"
    }
   }
  },
  {
   "cell_type": "code",
   "execution_count": 21,
   "outputs": [],
   "source": [
    "ifmha_v1 = ifmha_v1.groupby(\"COMID\").apply(lambda x: x[['side_slope', 'chan_bottom_width']].mean()).reset_index(drop=False)"
   ],
   "metadata": {
    "collapsed": false,
    "ExecuteTime": {
     "start_time": "2023-04-17T11:04:50.589702Z",
     "end_time": "2023-04-17T11:04:54.890795Z"
    }
   }
  },
  {
   "cell_type": "code",
   "execution_count": 38,
   "outputs": [
    {
     "data": {
      "text/plain": "<Figure size 1200x400 with 3 Axes>",
      "image/png": "[encoded data removed]"
     },
     "metadata": {},
     "output_type": "display_data"
    }
   ],
   "source": [
    "from utils import qqplot\n",
    "data1 = ifmha_v1[ifmha_v1['COMID'].isin(nwm['COMID'].tolist())]['chan_bottom_width'].values\n",
    "data1 = 0.3048 * data1\n",
    "data2 = nwm[nwm['COMID'].isin(ifmha_v1['COMID'].tolist())]['bottom_width'].values\n",
    "\n",
    "pct = 0.005\n",
    "data1 = data1[(data1 > np.quantile(data1, pct)) & (data1 < np.quantile(data1, 1-pct))]\n",
    "data2 = data2[(data2 > np.quantile(data1, pct)) & (data2 < np.quantile(data2, 1-pct))]\n",
    "\n",
    "qqplot(data2, data1, yax1='Bottom Width', axis_names=['NWM', 'IFMHA'], quantiles=100)"
   ],
   "metadata": {
    "collapsed": false,
    "ExecuteTime": {
     "start_time": "2023-04-17T11:41:55.835538Z",
     "end_time": "2023-04-17T11:41:56.842921Z"
    }
   }
  },
  {
   "cell_type": "code",
   "execution_count": 36,
   "outputs": [
    {
     "data": {
      "text/plain": "               NWM\ncount  6052.000000\nmean     17.254055\nstd      14.547583\nmin       1.006404\n25%       8.339229\n50%      13.069252\n75%      20.869346\nmax     121.254684",
      "text/html": "<div>\n<style scoped>\n    .dataframe tbody tr th:only-of-type {\n        vertical-align: middle;\n    }\n\n    .dataframe tbody tr th {\n        vertical-align: top;\n    }\n\n    .dataframe thead th {\n        text-align: right;\n    }\n</style>\n<table border=\"1\" class=\"dataframe\">\n  <thead>\n    <tr style=\"text-align: right;\">\n      <th></th>\n      <th>NWM</th>\n    </tr>\n  </thead>\n  <tbody>\n    <tr>\n      <th>count</th>\n      <td>6052.000000</td>\n    </tr>\n    <tr>\n      <th>mean</th>\n      <td>17.254055</td>\n    </tr>\n    <tr>\n      <th>std</th>\n      <td>14.547583</td>\n    </tr>\n    <tr>\n      <th>min</th>\n      <td>1.006404</td>\n    </tr>\n    <tr>\n      <th>25%</th>\n      <td>8.339229</td>\n    </tr>\n    <tr>\n      <th>50%</th>\n      <td>13.069252</td>\n    </tr>\n    <tr>\n      <th>75%</th>\n      <td>20.869346</td>\n    </tr>\n    <tr>\n      <th>max</th>\n      <td>121.254684</td>\n    </tr>\n  </tbody>\n</table>\n</div>"
     },
     "execution_count": 36,
     "metadata": {},
     "output_type": "execute_result"
    }
   ],
   "source": [
    "pd.DataFrame({'NWM': data2}).describe()"
   ],
   "metadata": {
    "collapsed": false,
    "ExecuteTime": {
     "start_time": "2023-04-17T11:23:48.971091Z",
     "end_time": "2023-04-17T11:23:48.986067Z"
    }
   }
  },
  {
   "cell_type": "code",
   "execution_count": 39,
   "outputs": [
    {
     "data": {
      "text/plain": "             IFMHA\ncount  6092.000000\nmean     30.283880\nstd      56.013036\nmin       0.016020\n25%       6.931305\n50%      14.535846\n75%      30.756530\nmax     902.605741",
      "text/html": "<div>\n<style scoped>\n    .dataframe tbody tr th:only-of-type {\n        vertical-align: middle;\n    }\n\n    .dataframe tbody tr th {\n        vertical-align: top;\n    }\n\n    .dataframe thead th {\n        text-align: right;\n    }\n</style>\n<table border=\"1\" class=\"dataframe\">\n  <thead>\n    <tr style=\"text-align: right;\">\n      <th></th>\n      <th>IFMHA</th>\n    </tr>\n  </thead>\n  <tbody>\n    <tr>\n      <th>count</th>\n      <td>6092.000000</td>\n    </tr>\n    <tr>\n      <th>mean</th>\n      <td>30.283880</td>\n    </tr>\n    <tr>\n      <th>std</th>\n      <td>56.013036</td>\n    </tr>\n    <tr>\n      <th>min</th>\n      <td>0.016020</td>\n    </tr>\n    <tr>\n      <th>25%</th>\n      <td>6.931305</td>\n    </tr>\n    <tr>\n      <th>50%</th>\n      <td>14.535846</td>\n    </tr>\n    <tr>\n      <th>75%</th>\n      <td>30.756530</td>\n    </tr>\n    <tr>\n      <th>max</th>\n      <td>902.605741</td>\n    </tr>\n  </tbody>\n</table>\n</div>"
     },
     "execution_count": 39,
     "metadata": {},
     "output_type": "execute_result"
    }
   ],
   "source": [
    "pd.DataFrame({'IFMHA': data1}).describe()"
   ],
   "metadata": {
    "collapsed": false,
    "ExecuteTime": {
     "start_time": "2023-04-17T11:42:00.078230Z",
     "end_time": "2023-04-17T11:42:00.090211Z"
    }
   }
  }
 ],
 "metadata": {
  "kernelspec": {
   "display_name": "Python 3",
   "language": "python",
   "name": "python3"
  },
  "language_info": {
   "codemirror_mode": {
    "name": "ipython",
    "version": 2
   },
   "file_extension": ".py",
   "mimetype": "text/x-python",
   "name": "python",
   "nbconvert_exporter": "python",
   "pygments_lexer": "ipython2",
   "version": "2.7.6"
  }
 },
 "nbformat": 4,
 "nbformat_minor": 0
}
