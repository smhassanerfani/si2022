{
 "cells": [
  {
   "cell_type": "code",
   "execution_count": 1,
   "metadata": {
    "collapsed": true
   },
   "outputs": [],
   "source": [
    "import matplotlib.pyplot as plt\n",
    "import numpy as np\n",
    "from scipy import optimize\n",
    "import pandas as pd"
   ]
  },
  {
   "cell_type": "markdown",
   "source": [
    "# Import Dataset"
   ],
   "metadata": {
    "collapsed": false
   }
  },
  {
   "cell_type": "code",
   "execution_count": 2,
   "outputs": [
    {
     "data": {
      "text/plain": "(2064782, 49)"
     },
     "execution_count": 2,
     "metadata": {},
     "output_type": "execute_result"
    }
   ],
   "source": [
    "tauraat = pd.read_csv('./tauraat-230322-150349.csv', converters={'site_no': str}, low_memory=False)\n",
    "tauraat.shape"
   ],
   "metadata": {
    "collapsed": false
   }
  },
  {
   "cell_type": "code",
   "execution_count": 3,
   "outputs": [
    {
     "data": {
      "text/plain": "(2064720, 49)"
     },
     "execution_count": 3,
     "metadata": {},
     "output_type": "execute_result"
    }
   ],
   "source": [
    "tauraat = tauraat[tauraat['SLOPE'] > 0]\n",
    "tauraat.shape"
   ],
   "metadata": {
    "collapsed": false
   }
  },
  {
   "cell_type": "code",
   "execution_count": 4,
   "outputs": [],
   "source": [
    "from sklearn.linear_model import LinearRegression\n",
    "import time"
   ],
   "metadata": {
    "collapsed": false
   }
  },
  {
   "cell_type": "code",
   "execution_count": 5,
   "outputs": [
    {
     "name": "stdout",
     "output_type": "stream",
     "text": [
      "16.130232095718384\n"
     ]
    }
   ],
   "source": [
    "t1 = time.time()\n",
    "taurat_side_slope = tauraat.groupby(\"site_no\").apply(lambda x: LinearRegression().fit(x['chan_max_depth'].values.reshape(-1, 1), 0.5 * x['chan_width'].values.reshape(-1, 1)).coef_[0][0]).reset_index(drop=False)\n",
    "tauraat_bottom_width =  tauraat.groupby(\"site_no\").apply(lambda x: LinearRegression().fit(x['chan_max_depth'].values.reshape(-1, 1), 0.5 * x['chan_width'].values.reshape(-1, 1)).intercept_[0] * 2.0).reset_index(drop=False)\n",
    "tauraat = pd.merge(tauraat, taurat_side_slope, how=\"left\", on=[\"site_no\"])\n",
    "tauraat = pd.merge(tauraat, tauraat_bottom_width, how=\"left\", on=[\"site_no\"])\n",
    "print(time.time() - t1)"
   ],
   "metadata": {
    "collapsed": false
   }
  },
  {
   "cell_type": "code",
   "execution_count": 6,
   "outputs": [],
   "source": [
    "tauraat.rename(columns={'0_x': 'side_slope', '0_y': 'chan_bottom_width'}, inplace=True)\n",
    "# tauraat.head()"
   ],
   "metadata": {
    "collapsed": false
   }
  },
  {
   "cell_type": "code",
   "execution_count": 7,
   "outputs": [
    {
     "data": {
      "text/plain": "    site_no      COMID   DASqKm  DASqMi           FTYPE    LatSite    LonSite  \\\n0  01010000  4289887.0  3473.19  1341.0  ArtificialPath  46.700556 -69.715556   \n1  01010000  4289887.0  3473.19  1341.0  ArtificialPath  46.700556 -69.715556   \n2  01010000  4289887.0  3473.19  1341.0  ArtificialPath  46.700556 -69.715556   \n3  01010000  4289887.0  3473.19  1341.0  ArtificialPath  46.700556 -69.715556   \n4  01010000  4289887.0  3473.19  1341.0  ArtificialPath  46.700556 -69.715556   \n\n      SLOPE STATE  STATE_CD  ...  site_visit_coll_agency_cd  \\\n0  0.003156    ME      23.0  ...                       USGS   \n1  0.003156    ME      23.0  ...                       USGS   \n2  0.003156    ME      23.0  ...                       USGS   \n3  0.003156    ME      23.0  ...                       USGS   \n4  0.003156    ME      23.0  ...                       USGS   \n\n                                 station_nm  streamflow_method tz_cd  \\\n0  St. John River at Ninemile Bridge, Maine              unspe   NaN   \n1  St. John River at Ninemile Bridge, Maine              QSCMM   NaN   \n2  St. John River at Ninemile Bridge, Maine              unspe   EDT   \n3  St. John River at Ninemile Bridge, Maine              unspe   NaN   \n4  St. John River at Ninemile Bridge, Maine              QSCMM   NaN   \n\n  velocity_method  vert_vel_desc chan_mean_depth chan_max_depth  side_slope  \\\n0           unkno           UNSP        0.766562       1.107819    10.49578   \n1           unkno           UNSP        2.612188       3.837696    10.49578   \n2           unkno           UNSP        1.766667       2.587080    10.49578   \n3           unkno           UNSP        0.962617       1.397805    10.49578   \n4           unkno           UNSP        0.821429       1.188973    10.49578   \n\n  chan_bottom_width  \n0        239.025255  \n1        239.025255  \n2        239.025255  \n3        239.025255  \n4        239.025255  \n\n[5 rows x 51 columns]",
      "text/html": "<div>\n<style scoped>\n    .dataframe tbody tr th:only-of-type {\n        vertical-align: middle;\n    }\n\n    .dataframe tbody tr th {\n        vertical-align: top;\n    }\n\n    .dataframe thead th {\n        text-align: right;\n    }\n</style>\n<table border=\"1\" class=\"dataframe\">\n  <thead>\n    <tr style=\"text-align: right;\">\n      <th></th>\n      <th>site_no</th>\n      <th>COMID</th>\n      <th>DASqKm</th>\n      <th>DASqMi</th>\n      <th>FTYPE</th>\n      <th>LatSite</th>\n      <th>LonSite</th>\n      <th>SLOPE</th>\n      <th>STATE</th>\n      <th>STATE_CD</th>\n      <th>...</th>\n      <th>site_visit_coll_agency_cd</th>\n      <th>station_nm</th>\n      <th>streamflow_method</th>\n      <th>tz_cd</th>\n      <th>velocity_method</th>\n      <th>vert_vel_desc</th>\n      <th>chan_mean_depth</th>\n      <th>chan_max_depth</th>\n      <th>side_slope</th>\n      <th>chan_bottom_width</th>\n    </tr>\n  </thead>\n  <tbody>\n    <tr>\n      <th>0</th>\n      <td>01010000</td>\n      <td>4289887.0</td>\n      <td>3473.19</td>\n      <td>1341.0</td>\n      <td>ArtificialPath</td>\n      <td>46.700556</td>\n      <td>-69.715556</td>\n      <td>0.003156</td>\n      <td>ME</td>\n      <td>23.0</td>\n      <td>...</td>\n      <td>USGS</td>\n      <td>St. John River at Ninemile Bridge, Maine</td>\n      <td>unspe</td>\n      <td>NaN</td>\n      <td>unkno</td>\n      <td>UNSP</td>\n      <td>0.766562</td>\n      <td>1.107819</td>\n      <td>10.49578</td>\n      <td>239.025255</td>\n    </tr>\n    <tr>\n      <th>1</th>\n      <td>01010000</td>\n      <td>4289887.0</td>\n      <td>3473.19</td>\n      <td>1341.0</td>\n      <td>ArtificialPath</td>\n      <td>46.700556</td>\n      <td>-69.715556</td>\n      <td>0.003156</td>\n      <td>ME</td>\n      <td>23.0</td>\n      <td>...</td>\n      <td>USGS</td>\n      <td>St. John River at Ninemile Bridge, Maine</td>\n      <td>QSCMM</td>\n      <td>NaN</td>\n      <td>unkno</td>\n      <td>UNSP</td>\n      <td>2.612188</td>\n      <td>3.837696</td>\n      <td>10.49578</td>\n      <td>239.025255</td>\n    </tr>\n    <tr>\n      <th>2</th>\n      <td>01010000</td>\n      <td>4289887.0</td>\n      <td>3473.19</td>\n      <td>1341.0</td>\n      <td>ArtificialPath</td>\n      <td>46.700556</td>\n      <td>-69.715556</td>\n      <td>0.003156</td>\n      <td>ME</td>\n      <td>23.0</td>\n      <td>...</td>\n      <td>USGS</td>\n      <td>St. John River at Ninemile Bridge, Maine</td>\n      <td>unspe</td>\n      <td>EDT</td>\n      <td>unkno</td>\n      <td>UNSP</td>\n      <td>1.766667</td>\n      <td>2.587080</td>\n      <td>10.49578</td>\n      <td>239.025255</td>\n    </tr>\n    <tr>\n      <th>3</th>\n      <td>01010000</td>\n      <td>4289887.0</td>\n      <td>3473.19</td>\n      <td>1341.0</td>\n      <td>ArtificialPath</td>\n      <td>46.700556</td>\n      <td>-69.715556</td>\n      <td>0.003156</td>\n      <td>ME</td>\n      <td>23.0</td>\n      <td>...</td>\n      <td>USGS</td>\n      <td>St. John River at Ninemile Bridge, Maine</td>\n      <td>unspe</td>\n      <td>NaN</td>\n      <td>unkno</td>\n      <td>UNSP</td>\n      <td>0.962617</td>\n      <td>1.397805</td>\n      <td>10.49578</td>\n      <td>239.025255</td>\n    </tr>\n    <tr>\n      <th>4</th>\n      <td>01010000</td>\n      <td>4289887.0</td>\n      <td>3473.19</td>\n      <td>1341.0</td>\n      <td>ArtificialPath</td>\n      <td>46.700556</td>\n      <td>-69.715556</td>\n      <td>0.003156</td>\n      <td>ME</td>\n      <td>23.0</td>\n      <td>...</td>\n      <td>USGS</td>\n      <td>St. John River at Ninemile Bridge, Maine</td>\n      <td>QSCMM</td>\n      <td>NaN</td>\n      <td>unkno</td>\n      <td>UNSP</td>\n      <td>0.821429</td>\n      <td>1.188973</td>\n      <td>10.49578</td>\n      <td>239.025255</td>\n    </tr>\n  </tbody>\n</table>\n<p>5 rows × 51 columns</p>\n</div>"
     },
     "execution_count": 7,
     "metadata": {},
     "output_type": "execute_result"
    }
   ],
   "source": [
    "tauraat.head()"
   ],
   "metadata": {
    "collapsed": false
   }
  },
  {
   "cell_type": "code",
   "execution_count": 9,
   "outputs": [],
   "source": [
    "df = tauraat[tauraat['site_no'] == '01010000']"
   ],
   "metadata": {
    "collapsed": false
   }
  },
  {
   "cell_type": "code",
   "execution_count": 12,
   "outputs": [
    {
     "data": {
      "text/plain": "count    210.000000\nmean     239.025255\nstd      112.501795\nmin      -45.751643\n25%      200.547797\n50%      261.757788\n75%      303.742275\nmax      743.126261\ndtype: float64"
     },
     "execution_count": 12,
     "metadata": {},
     "output_type": "execute_result"
    }
   ],
   "source": [
    "(df['chan_width'] - 2 * df['side_slope'] * df['chan_max_depth']).describe()"
   ],
   "metadata": {
    "collapsed": false
   }
  },
  {
   "cell_type": "code",
   "execution_count": 8,
   "outputs": [],
   "source": [
    "tauraat['wetted_perimeter1'] = (tauraat['chan_width'] - 2 *  tauraat['side_slope'] * tauraat['chan_max_depth']) + (2 * tauraat['chan_max_depth'] * (1 + tauraat['side_slope']**2)**(0.5))\n",
    "tauraat['wetted_perimeter2'] = tauraat['chan_bottom_width'] + (2 * tauraat['chan_max_depth'] * (1 + tauraat['side_slope']**2)**(0.5))\n",
    "# tauraat['wetted_perimeter2'] = tauraat['chan_width'] + 2 * tauraat['chan_mean_depth']"
   ],
   "metadata": {
    "collapsed": false
   }
  },
  {
   "cell_type": "code",
   "execution_count": 11,
   "outputs": [
    {
     "data": {
      "text/plain": "<Figure size 640x480 with 1 Axes>",
      "image/png": "[encoded data removed]"
     },
     "metadata": {},
     "output_type": "display_data"
    }
   ],
   "source": [
    "fig, ax = plt.subplots()\n",
    "\n",
    "ax.boxplot([tauraat['wetted_perimeter1'], tauraat['wetted_perimeter2']], showfliers=False)\n",
    "# ax.set_xticklabels([xax2_name, yax2_name])\n",
    "ax.tick_params(axis='x', labelrotation=0, labelsize=16)\n",
    "ax.grid(True)\n",
    "plt.show()"
   ],
   "metadata": {
    "collapsed": false
   }
  },
  {
   "cell_type": "code",
   "execution_count": 18,
   "outputs": [],
   "source": [
    "tauraat['roughness'] = (1.49 * tauraat['SLOPE']**(0.5) * tauraat['chan_area']**(5.0/3.0))/(tauraat['chan_discharge'] * tauraat['wetted_perimeter']**(2.0/3.0))"
   ],
   "metadata": {
    "collapsed": false
   }
  },
  {
   "cell_type": "code",
   "execution_count": 20,
   "outputs": [
    {
     "data": {
      "text/plain": "<Figure size 640x480 with 1 Axes>",
      "image/png": "[encoded data removed]"
     },
     "metadata": {},
     "output_type": "display_data"
    }
   ],
   "source": [
    "fig, ax = plt.subplots()\n",
    "st = tauraat[tauraat['FTYPE'] == 'StreamRiver']['roughness']\n",
    "ap = tauraat[tauraat['FTYPE'] == 'ArtificialPath']['roughness']\n",
    "cd = tauraat[tauraat['FTYPE'] == 'CanalDitch']['roughness']\n",
    "cn = tauraat[tauraat['FTYPE'] == 'Connector']['roughness']\n",
    "\n",
    "ax.boxplot([st, ap, cd, cn], showfliers=False)\n",
    "# ax.set_xticklabels([xax2_name, yax2_name])\n",
    "ax.tick_params(axis='x', labelrotation=0, labelsize=16)\n",
    "ax.grid(True)\n",
    "plt.show()"
   ],
   "metadata": {
    "collapsed": false
   }
  },
  {
   "cell_type": "code",
   "execution_count": 116,
   "outputs": [],
   "source": [
    "def side_slope(m, Q=1.0, A=1.0, T=1.0, Sb=1.0, d=1.0, n=1.0):\n",
    "    numerator = (Sb**(0.5) * A**(5.0/3.0))\n",
    "    denominator = n * ((T-2*m*d) + 2*d*(1+m**2)**(0.5))**(2.0/3.0)\n",
    "    return Q - (numerator/ denominator)"
   ],
   "metadata": {
    "collapsed": false
   }
  },
  {
   "cell_type": "code",
   "execution_count": 117,
   "outputs": [],
   "source": [
    "mat = df.to_numpy()[:50]"
   ],
   "metadata": {
    "collapsed": false
   }
  },
  {
   "cell_type": "code",
   "execution_count": 118,
   "outputs": [],
   "source": [
    "roots = list()\n",
    "for vars in mat:\n",
    "\n",
    "    sol = optimize.root(side_slope, x0=1.00, args=(vars[0], vars[1], vars[2], vars[3], vars[4], vars[5]))\n",
    "    roots.append(sol.x)"
   ],
   "metadata": {
    "collapsed": false
   }
  },
  {
   "cell_type": "code",
   "execution_count": 120,
   "outputs": [
    {
     "name": "stdout",
     "output_type": "stream",
     "text": [
      "[1069.55883657]\n",
      "[1522.28877841]\n",
      "[4523.24432982]\n",
      "[3890.09862788]\n",
      "[2589.3947106]\n",
      "[3556.08072731]\n",
      "[11493.60370461]\n",
      "[5653.62236897]\n",
      "[24022.41902244]\n",
      "[27993.89463255]\n",
      "[6177.77588091]\n",
      "[3.63797881e-12]\n",
      "[3.63797881e-12]\n",
      "[0.]\n",
      "[1.18234311e-11]\n",
      "[-1.8189894e-12]\n",
      "[764.78753447]\n",
      "[29762.94134298]\n",
      "[45717.89407664]\n",
      "[31457.49377749]\n",
      "[19888.60178488]\n",
      "[27558.86205323]\n",
      "[24419.83923088]\n",
      "[15363.78263142]\n",
      "[45054.10994341]\n",
      "[28444.05874493]\n",
      "[18330.90706715]\n",
      "[12315.21421695]\n",
      "[13250.74728931]\n",
      "[6048.5536918]\n",
      "[11384.07169316]\n",
      "[13731.75620343]\n",
      "[7551.99359866]\n",
      "[7621.88127462]\n",
      "[6627.6574086]\n",
      "[1977.97682058]\n",
      "[1142.31085177]\n",
      "[3022.18977962]\n",
      "[3587.91723265]\n",
      "[2589.25152767]\n",
      "[11256.35004869]\n",
      "[9811.96641557]\n",
      "[5683.881015]\n",
      "[9738.59658733]\n",
      "[8213.83541674]\n",
      "[9269.79685004]\n",
      "[22582.05394182]\n",
      "[8318.35106643]\n",
      "[6983.75125002]\n",
      "[6426.13222975]\n"
     ]
    }
   ],
   "source": [
    "for i, Ss in enumerate(roots):\n",
    "\n",
    "    print(side_slope(m=Ss, Q=mat[i,0], A=mat[i,1], T=mat[i,2], Sb=mat[i,3], d=mat[i,4], n=mat[i,5]))\n"
   ],
   "metadata": {
    "collapsed": false
   }
  }
 ],
 "metadata": {
  "kernelspec": {
   "display_name": "Python 3",
   "language": "python",
   "name": "python3"
  },
  "language_info": {
   "codemirror_mode": {
    "name": "ipython",
    "version": 2
   },
   "file_extension": ".py",
   "mimetype": "text/x-python",
   "name": "python",
   "nbconvert_exporter": "python",
   "pygments_lexer": "ipython2",
   "version": "2.7.6"
  }
 },
 "nbformat": 4,
 "nbformat_minor": 0
}
