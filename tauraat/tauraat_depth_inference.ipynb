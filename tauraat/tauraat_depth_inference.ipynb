{
 "cells": [
  {
   "cell_type": "code",
   "execution_count": 12,
   "metadata": {
    "collapsed": true,
    "ExecuteTime": {
     "start_time": "2023-04-14T16:47:36.792408Z",
     "end_time": "2023-04-14T16:47:36.800396Z"
    }
   },
   "outputs": [],
   "source": [
    "import pandas as pd\n",
    "import numpy as np\n",
    "from scipy.spatial.distance import jensenshannon\n",
    "import matplotlib.pyplot as plt\n",
    "import seaborn as sns\n",
    "sns.set(style = 'darkgrid')\n",
    "from utils import scatter_plot, qqplot"
   ]
  },
  {
   "cell_type": "code",
   "execution_count": 2,
   "outputs": [],
   "source": [
    "ifmha = pd.read_csv('./tauraat-230322-150349.csv', converters={'site_no': str}, low_memory=False)\n",
    "hydro_subset = pd.read_csv('./data/hydroswot-subset-230329-120803.csv', converters={'site_no': str}, low_memory=False)"
   ],
   "metadata": {
    "collapsed": false,
    "ExecuteTime": {
     "start_time": "2023-04-14T15:01:28.485532Z",
     "end_time": "2023-04-14T15:01:49.284106Z"
    }
   }
  },
  {
   "cell_type": "code",
   "execution_count": 3,
   "outputs": [
    {
     "name": "stdout",
     "output_type": "stream",
     "text": [
      "site locations with minimum of 30 observations: \n",
      "Number of observations: (7666, 7)\n",
      "Number of sites:\n"
     ]
    },
    {
     "data": {
      "text/plain": "count    174.000000\nmean      44.057471\nstd       23.867581\nmin       30.000000\n25%       33.000000\n50%       37.000000\n75%       44.000000\nmax      159.000000\nName: site_no, dtype: float64"
     },
     "execution_count": 3,
     "metadata": {},
     "output_type": "execute_result"
    }
   ],
   "source": [
    "sites = hydro_subset['site_no'].value_counts()\n",
    "hydro_stat = hydro_subset[hydro_subset[\"site_no\"].isin(sites.index[sites>=30].to_list())]\n",
    "\n",
    "print(\"site locations with minimum of 30 observations: \")\n",
    "print(f'Number of observations: {hydro_stat.shape}')\n",
    "print('Number of sites:')\n",
    "sites = hydro_stat['site_no'].value_counts()\n",
    "sites.describe()"
   ],
   "metadata": {
    "collapsed": false,
    "ExecuteTime": {
     "start_time": "2023-04-14T15:01:49.286102Z",
     "end_time": "2023-04-14T15:01:49.316053Z"
    }
   }
  },
  {
   "cell_type": "code",
   "execution_count": 4,
   "outputs": [
    {
     "name": "stdout",
     "output_type": "stream",
     "text": [
      "site number: 02239501, Jensen-Shannon Divergence: 0.2644, HYDRoSWOT: 157, IFMHA: 396\n",
      "site number: 06893000, Jensen-Shannon Divergence: 0.1427, HYDRoSWOT: 153, IFMHA: 1721\n",
      "site number: 06813500 is not in IFMHA!\n",
      "site number: 06610000, Jensen-Shannon Divergence: 0.3191, HYDRoSWOT: 138, IFMHA: 5399\n",
      "site number: 06807000, Jensen-Shannon Divergence: 0.2933, HYDRoSWOT: 132, IFMHA: 6514\n",
      "site number: 06601200, Jensen-Shannon Divergence: 0.2380, HYDRoSWOT: 130, IFMHA: 2962\n",
      "site number: 06486000, Jensen-Shannon Divergence: 0.2309, HYDRoSWOT: 128, IFMHA: 5420\n",
      "site number: 06818000, Jensen-Shannon Divergence: 0.1261, HYDRoSWOT: 109, IFMHA: 1382\n",
      "site number: 06895500, Jensen-Shannon Divergence: 0.1812, HYDRoSWOT: 103, IFMHA: 1297\n",
      "site number: 06909000, Jensen-Shannon Divergence: 0.2171, HYDRoSWOT: 103, IFMHA: 1304\n",
      "site number: 06934500, Jensen-Shannon Divergence: 0.1966, HYDRoSWOT: 83, IFMHA: 1086\n",
      "site number: 07374525, Jensen-Shannon Divergence: 0.1437, HYDRoSWOT: 73, IFMHA: 273\n",
      "site number: 07374000, Jensen-Shannon Divergence: 0.2616, HYDRoSWOT: 69, IFMHA: 266\n",
      "site number: 07022000, Jensen-Shannon Divergence: 0.2651, HYDRoSWOT: 66, IFMHA: 3068\n",
      "site number: 03378500, Jensen-Shannon Divergence: 0.2137, HYDRoSWOT: 65, IFMHA: 192\n",
      "site number: 10141000, Jensen-Shannon Divergence: 0.2141, HYDRoSWOT: 57, IFMHA: 433\n",
      "site number: 06887500, Jensen-Shannon Divergence: 0.1630, HYDRoSWOT: 57, IFMHA: 373\n",
      "site number: 04159130, Jensen-Shannon Divergence: 0.2935, HYDRoSWOT: 55, IFMHA: 143\n",
      "site number: 11370500, Jensen-Shannon Divergence: 0.3576, HYDRoSWOT: 55, IFMHA: 530\n",
      "site number: 07010000, Jensen-Shannon Divergence: 0.2367, HYDRoSWOT: 54, IFMHA: 2866\n",
      "site number: 04165710, Jensen-Shannon Divergence: 0.4025, HYDRoSWOT: 53, IFMHA: 142\n",
      "site number: 09419679, Jensen-Shannon Divergence: 0.3679, HYDRoSWOT: 53, IFMHA: 434\n",
      "site number: 10126000, Jensen-Shannon Divergence: 0.2336, HYDRoSWOT: 50, IFMHA: 729\n",
      "site number: 05587450, Jensen-Shannon Divergence: 0.3329, HYDRoSWOT: 49, IFMHA: 406\n",
      "site number: 07020500, Jensen-Shannon Divergence: 0.1957, HYDRoSWOT: 49, IFMHA: 706\n",
      "site number: 02488500, Jensen-Shannon Divergence: 0.2732, HYDRoSWOT: 48, IFMHA: 276\n",
      "site number: 05301000, Jensen-Shannon Divergence: 0.4376, HYDRoSWOT: 47, IFMHA: 795\n",
      "site number: 04165500, Jensen-Shannon Divergence: 0.3442, HYDRoSWOT: 46, IFMHA: 883\n",
      "site number: 11525500, Jensen-Shannon Divergence: 0.1366, HYDRoSWOT: 46, IFMHA: 516\n",
      "site number: 09272400, Jensen-Shannon Divergence: 0.1147, HYDRoSWOT: 46, IFMHA: 131\n",
      "site number: 11377100, Jensen-Shannon Divergence: 0.2633, HYDRoSWOT: 46, IFMHA: 418\n",
      "site number: 02358000, Jensen-Shannon Divergence: 0.3004, HYDRoSWOT: 45, IFMHA: 332\n",
      "site number: 06935965, Jensen-Shannon Divergence: 0.2844, HYDRoSWOT: 44, IFMHA: 240\n",
      "site number: 09404200, Jensen-Shannon Divergence: 0.2148, HYDRoSWOT: 44, IFMHA: 344\n",
      "site number: 13302005, Jensen-Shannon Divergence: 0.3397, HYDRoSWOT: 44, IFMHA: 389\n",
      "site number: 02489000, Jensen-Shannon Divergence: 0.1929, HYDRoSWOT: 43, IFMHA: 235\n",
      "site number: 13269000, Jensen-Shannon Divergence: 0.5100, HYDRoSWOT: 43, IFMHA: 313\n",
      "site number: 03077500, Jensen-Shannon Divergence: 0.4090, HYDRoSWOT: 43, IFMHA: 703\n",
      "site number: 02478500, Jensen-Shannon Divergence: 0.3309, HYDRoSWOT: 43, IFMHA: 303\n",
      "site number: 02479000, Jensen-Shannon Divergence: 0.3503, HYDRoSWOT: 43, IFMHA: 732\n",
      "site number: 10171000, Jensen-Shannon Divergence: 0.3224, HYDRoSWOT: 43, IFMHA: 398\n",
      "site number: 10092700, Jensen-Shannon Divergence: 0.3374, HYDRoSWOT: 42, IFMHA: 468\n",
      "site number: 06888350, Jensen-Shannon Divergence: 0.1568, HYDRoSWOT: 42, IFMHA: 347\n",
      "site number: 06894100, Jensen-Shannon Divergence: 0.1840, HYDRoSWOT: 42, IFMHA: 133\n",
      "site number: 03501975, Jensen-Shannon Divergence: 0.1562, HYDRoSWOT: 42, IFMHA: 114\n",
      "site number: 12310100, Jensen-Shannon Divergence: 0.2955, HYDRoSWOT: 41, IFMHA: 166\n",
      "site number: 02479310, Jensen-Shannon Divergence: 0.3147, HYDRoSWOT: 41, IFMHA: 206\n",
      "site number: 13213100, Jensen-Shannon Divergence: 0.2572, HYDRoSWOT: 41, IFMHA: 296\n",
      "site number: 02474560, Jensen-Shannon Divergence: 0.3032, HYDRoSWOT: 41, IFMHA: 356\n",
      "site number: 02473000, Jensen-Shannon Divergence: 0.4518, HYDRoSWOT: 41, IFMHA: 792\n",
      "site number: 11525655, Jensen-Shannon Divergence: 0.2772, HYDRoSWOT: 40, IFMHA: 271\n",
      "site number: 03303280, Jensen-Shannon Divergence: 0.2745, HYDRoSWOT: 40, IFMHA: 293\n",
      "site number: 0211139110 is not in IFMHA!\n",
      "site number: 13069500, Jensen-Shannon Divergence: 0.2316, HYDRoSWOT: 40, IFMHA: 446\n",
      "site number: 02475000, Jensen-Shannon Divergence: 0.3555, HYDRoSWOT: 40, IFMHA: 763\n",
      "site number: 15514000 is not in IFMHA!\n",
      "site number: 01481500, Jensen-Shannon Divergence: 0.4164, HYDRoSWOT: 39, IFMHA: 830\n",
      "site number: 11372000, Jensen-Shannon Divergence: 0.3646, HYDRoSWOT: 39, IFMHA: 467\n",
      "site number: 11516530, Jensen-Shannon Divergence: 0.3559, HYDRoSWOT: 39, IFMHA: 456\n",
      "site number: 09152500, Jensen-Shannon Divergence: 0.3605, HYDRoSWOT: 38, IFMHA: 387\n",
      "site number: 03081000, Jensen-Shannon Divergence: 0.2120, HYDRoSWOT: 38, IFMHA: 347\n",
      "site number: 05311000, Jensen-Shannon Divergence: 0.4876, HYDRoSWOT: 38, IFMHA: 805\n",
      "site number: 05487520, Jensen-Shannon Divergence: 0.2965, HYDRoSWOT: 38, IFMHA: 142\n",
      "site number: 05465500, Jensen-Shannon Divergence: 0.3206, HYDRoSWOT: 38, IFMHA: 1142\n",
      "site number: 11376550, Jensen-Shannon Divergence: 0.2731, HYDRoSWOT: 37, IFMHA: 429\n",
      "site number: 11447650 is not in IFMHA!\n",
      "site number: 05330000, Jensen-Shannon Divergence: 0.3854, HYDRoSWOT: 37, IFMHA: 1098\n",
      "site number: 09380000, Jensen-Shannon Divergence: 0.3785, HYDRoSWOT: 37, IFMHA: 454\n",
      "site number: 04119400, Jensen-Shannon Divergence: 0.3008, HYDRoSWOT: 37, IFMHA: 112\n",
      "site number: 13062500, Jensen-Shannon Divergence: 0.3214, HYDRoSWOT: 37, IFMHA: 409\n",
      "site number: 13251000, Jensen-Shannon Divergence: 0.4620, HYDRoSWOT: 37, IFMHA: 377\n",
      "site number: 09261000, Jensen-Shannon Divergence: 0.2413, HYDRoSWOT: 36, IFMHA: 481\n",
      "site number: 07018500, Jensen-Shannon Divergence: 0.2626, HYDRoSWOT: 36, IFMHA: 469\n",
      "site number: 03443000, Jensen-Shannon Divergence: 0.2950, HYDRoSWOT: 36, IFMHA: 1104\n",
      "site number: 06876900, Jensen-Shannon Divergence: 0.2243, HYDRoSWOT: 36, IFMHA: 309\n",
      "site number: 11526250, Jensen-Shannon Divergence: 0.1802, HYDRoSWOT: 36, IFMHA: 206\n",
      "site number: 03374100, Jensen-Shannon Divergence: 0.2728, HYDRoSWOT: 36, IFMHA: 208\n",
      "site number: 11525854, Jensen-Shannon Divergence: 0.2210, HYDRoSWOT: 36, IFMHA: 195\n",
      "site number: 13249500, Jensen-Shannon Divergence: 0.4592, HYDRoSWOT: 36, IFMHA: 343\n",
      "site number: 05030500, Jensen-Shannon Divergence: 0.3417, HYDRoSWOT: 35, IFMHA: 243\n",
      "site number: 01660920, Jensen-Shannon Divergence: 0.6195, HYDRoSWOT: 35, IFMHA: 439\n",
      "site number: 09530000, Jensen-Shannon Divergence: 0.1975, HYDRoSWOT: 35, IFMHA: 535\n",
      "site number: 05074500, Jensen-Shannon Divergence: 0.3061, HYDRoSWOT: 35, IFMHA: 484\n",
      "site number: 13250000, Jensen-Shannon Divergence: 0.3402, HYDRoSWOT: 35, IFMHA: 281\n",
      "site number: 02243960, Jensen-Shannon Divergence: 0.3651, HYDRoSWOT: 35, IFMHA: 218\n",
      "site number: 15477740 is not in IFMHA!\n",
      "site number: 09163500, Jensen-Shannon Divergence: 0.1736, HYDRoSWOT: 35, IFMHA: 347\n",
      "site number: 05482000, Jensen-Shannon Divergence: 0.4507, HYDRoSWOT: 35, IFMHA: 649\n",
      "site number: 03171000, Jensen-Shannon Divergence: 0.4115, HYDRoSWOT: 35, IFMHA: 500\n",
      "site number: 06877600, Jensen-Shannon Divergence: 0.3445, HYDRoSWOT: 34, IFMHA: 330\n",
      "site number: 11526400, Jensen-Shannon Divergence: 0.3901, HYDRoSWOT: 34, IFMHA: 190\n",
      "site number: 13302500, Jensen-Shannon Divergence: 0.3848, HYDRoSWOT: 34, IFMHA: 298\n",
      "site number: 05465000 is not in IFMHA!\n",
      "site number: 05294000, Jensen-Shannon Divergence: 0.5848, HYDRoSWOT: 34, IFMHA: 753\n",
      "site number: 02240000, Jensen-Shannon Divergence: 0.4405, HYDRoSWOT: 34, IFMHA: 334\n",
      "site number: 05344500, Jensen-Shannon Divergence: 0.3058, HYDRoSWOT: 34, IFMHA: 97\n",
      "site number: 03501500, Jensen-Shannon Divergence: 0.2635, HYDRoSWOT: 33, IFMHA: 72\n",
      "site number: 03363000, Jensen-Shannon Divergence: 0.3026, HYDRoSWOT: 33, IFMHA: 212\n",
      "site number: 07037500, Jensen-Shannon Divergence: 0.2527, HYDRoSWOT: 33, IFMHA: 836\n",
      "site number: 03165500, Jensen-Shannon Divergence: 0.3707, HYDRoSWOT: 33, IFMHA: 544\n",
      "site number: 01487000, Jensen-Shannon Divergence: 0.4354, HYDRoSWOT: 33, IFMHA: 745\n",
      "site number: 03350800, Jensen-Shannon Divergence: 0.2167, HYDRoSWOT: 33, IFMHA: 145\n",
      "site number: 03176500, Jensen-Shannon Divergence: 0.2881, HYDRoSWOT: 33, IFMHA: 733\n",
      "site number: 12308000, Jensen-Shannon Divergence: 0.2747, HYDRoSWOT: 33, IFMHA: 96\n",
      "site number: 10039500, Jensen-Shannon Divergence: 0.3765, HYDRoSWOT: 33, IFMHA: 973\n",
      "site number: 02175500, Jensen-Shannon Divergence: 0.2558, HYDRoSWOT: 33, IFMHA: 338\n",
      "site number: 02019500, Jensen-Shannon Divergence: 0.2542, HYDRoSWOT: 33, IFMHA: 703\n",
      "site number: 07061290, Jensen-Shannon Divergence: 0.4007, HYDRoSWOT: 33, IFMHA: 195\n",
      "site number: 06891000, Jensen-Shannon Divergence: 0.2433, HYDRoSWOT: 32, IFMHA: 362\n",
      "site number: 05453520, Jensen-Shannon Divergence: 0.2370, HYDRoSWOT: 32, IFMHA: 911\n",
      "site number: 021973269, Jensen-Shannon Divergence: 0.1824, HYDRoSWOT: 32, IFMHA: 82\n",
      "site number: 022907647 is not in IFMHA!\n",
      "site number: 03527000, Jensen-Shannon Divergence: 0.3362, HYDRoSWOT: 32, IFMHA: 701\n",
      "site number: 05304500, Jensen-Shannon Divergence: 0.4996, HYDRoSWOT: 32, IFMHA: 289\n",
      "site number: 03611500, Jensen-Shannon Divergence: 0.2123, HYDRoSWOT: 32, IFMHA: 859\n",
      "site number: 13213000, Jensen-Shannon Divergence: 0.1906, HYDRoSWOT: 32, IFMHA: 343\n",
      "site number: 02011800, Jensen-Shannon Divergence: 0.5964, HYDRoSWOT: 31, IFMHA: 423\n",
      "site number: 14220500, Jensen-Shannon Divergence: 0.2897, HYDRoSWOT: 31, IFMHA: 364\n",
      "site number: 03079000, Jensen-Shannon Divergence: 0.5615, HYDRoSWOT: 31, IFMHA: 557\n",
      "site number: 02040892, Jensen-Shannon Divergence: 0.3042, HYDRoSWOT: 31, IFMHA: 95\n",
      "site number: 06902000, Jensen-Shannon Divergence: 0.5161, HYDRoSWOT: 31, IFMHA: 1225\n",
      "site number: 02016500, Jensen-Shannon Divergence: 0.1689, HYDRoSWOT: 31, IFMHA: 663\n",
      "site number: 10172630 is not in IFMHA!\n",
      "site number: 05331580, Jensen-Shannon Divergence: 0.2916, HYDRoSWOT: 31, IFMHA: 105\n",
      "site number: 05594100, Jensen-Shannon Divergence: 0.2494, HYDRoSWOT: 31, IFMHA: 367\n",
      "site number: 02376033, Jensen-Shannon Divergence: 0.2030, HYDRoSWOT: 31, IFMHA: 205\n",
      "site number: 03276500 is not in IFMHA!\n",
      "site number: 06879100, Jensen-Shannon Divergence: 0.3408, HYDRoSWOT: 31, IFMHA: 324\n",
      "site number: 06889000, Jensen-Shannon Divergence: 0.2233, HYDRoSWOT: 31, IFMHA: 387\n",
      "site number: 05344490, Jensen-Shannon Divergence: 0.2590, HYDRoSWOT: 31, IFMHA: 123\n",
      "site number: 03325500, Jensen-Shannon Divergence: 0.3229, HYDRoSWOT: 31, IFMHA: 262\n",
      "site number: 07352000 is not in IFMHA!\n",
      "site number: 05345000, Jensen-Shannon Divergence: 0.5316, HYDRoSWOT: 31, IFMHA: 329\n",
      "site number: 02359170, Jensen-Shannon Divergence: 0.2578, HYDRoSWOT: 31, IFMHA: 237\n",
      "site number: 03363900, Jensen-Shannon Divergence: 0.3896, HYDRoSWOT: 30, IFMHA: 334\n",
      "site number: 15514003 is not in IFMHA!\n",
      "site number: 12322000, Jensen-Shannon Divergence: 0.2059, HYDRoSWOT: 30, IFMHA: 369\n",
      "site number: 11517500, Jensen-Shannon Divergence: 0.3895, HYDRoSWOT: 30, IFMHA: 424\n",
      "site number: 12417610, Jensen-Shannon Divergence: 0.2332, HYDRoSWOT: 30, IFMHA: 79\n",
      "site number: 12419000, Jensen-Shannon Divergence: 0.3170, HYDRoSWOT: 30, IFMHA: 336\n",
      "site number: 11389500, Jensen-Shannon Divergence: 0.3211, HYDRoSWOT: 30, IFMHA: 269\n",
      "site number: 02319000, Jensen-Shannon Divergence: 0.2880, HYDRoSWOT: 30, IFMHA: 699\n",
      "site number: 11390500, Jensen-Shannon Divergence: 0.2878, HYDRoSWOT: 30, IFMHA: 257\n",
      "site number: 01582500, Jensen-Shannon Divergence: 0.6162, HYDRoSWOT: 29, IFMHA: 385\n",
      "site number: 06906500, Jensen-Shannon Divergence: 0.1854, HYDRoSWOT: 29, IFMHA: 189\n",
      "site number: 02075500, Jensen-Shannon Divergence: 0.1864, HYDRoSWOT: 29, IFMHA: 561\n",
      "site number: 02013100, Jensen-Shannon Divergence: 0.4228, HYDRoSWOT: 29, IFMHA: 391\n",
      "site number: 05465700, Jensen-Shannon Divergence: 0.2818, HYDRoSWOT: 29, IFMHA: 118\n",
      "site number: 06810070, Jensen-Shannon Divergence: 0.3224, HYDRoSWOT: 29, IFMHA: 181\n",
      "site number: 07019000, Jensen-Shannon Divergence: 0.5361, HYDRoSWOT: 29, IFMHA: 763\n",
      "site number: 02320000, Jensen-Shannon Divergence: 0.2984, HYDRoSWOT: 29, IFMHA: 129\n",
      "site number: 01053600, Jensen-Shannon Divergence: 0.1135, HYDRoSWOT: 29, IFMHA: 92\n",
      "site number: 05305000, Jensen-Shannon Divergence: 0.4548, HYDRoSWOT: 29, IFMHA: 189\n",
      "site number: 10038000, Jensen-Shannon Divergence: 0.4392, HYDRoSWOT: 29, IFMHA: 382\n",
      "site number: 06934000, Jensen-Shannon Divergence: 0.3510, HYDRoSWOT: 29, IFMHA: 451\n",
      "site number: 05116000, Jensen-Shannon Divergence: 0.5178, HYDRoSWOT: 29, IFMHA: 345\n",
      "site number: 05227500, Jensen-Shannon Divergence: 0.2411, HYDRoSWOT: 29, IFMHA: 597\n",
      "site number: 03081500, Jensen-Shannon Divergence: 0.4532, HYDRoSWOT: 29, IFMHA: 178\n",
      "site number: 03083500, Jensen-Shannon Divergence: 0.3715, HYDRoSWOT: 29, IFMHA: 371\n",
      "site number: 03287500, Jensen-Shannon Divergence: 0.3711, HYDRoSWOT: 28, IFMHA: 728\n",
      "site number: 07061600, Jensen-Shannon Divergence: 0.2537, HYDRoSWOT: 28, IFMHA: 129\n",
      "site number: 07062500, Jensen-Shannon Divergence: 0.2488, HYDRoSWOT: 28, IFMHA: 192\n",
      "site number: 09362520, Jensen-Shannon Divergence: 0.4500, HYDRoSWOT: 28, IFMHA: 174\n",
      "site number: 05051300, Jensen-Shannon Divergence: 0.4832, HYDRoSWOT: 28, IFMHA: 301\n",
      "site number: 04119000, Jensen-Shannon Divergence: 0.1980, HYDRoSWOT: 28, IFMHA: 826\n",
      "site number: 09070500, Jensen-Shannon Divergence: 0.3003, HYDRoSWOT: 28, IFMHA: 329\n",
      "site number: 01491000, Jensen-Shannon Divergence: 0.5798, HYDRoSWOT: 28, IFMHA: 932\n",
      "site number: 14174000, Jensen-Shannon Divergence: 0.2402, HYDRoSWOT: 28, IFMHA: 160\n",
      "site number: 04182769, Jensen-Shannon Divergence: 0.2602, HYDRoSWOT: 28, IFMHA: 74\n",
      "site number: 11517000, Jensen-Shannon Divergence: 0.3178, HYDRoSWOT: 28, IFMHA: 274\n",
      "site number: 02051190, Jensen-Shannon Divergence: 0.3130, HYDRoSWOT: 28, IFMHA: 100\n",
      "site number: 13057000, Jensen-Shannon Divergence: 0.2598, HYDRoSWOT: 28, IFMHA: 175\n",
      "site number: 09217000, Jensen-Shannon Divergence: 0.3066, HYDRoSWOT: 28, IFMHA: 387\n",
      "site number: 11530500, Jensen-Shannon Divergence: 0.1943, HYDRoSWOT: 28, IFMHA: 323\n"
     ]
    }
   ],
   "source": [
    "pct = 0.005\n",
    "stat_dist = [] # statistical distance\n",
    "for idx, site in enumerate(sites):\n",
    "    if sites.index[idx] in ifmha['site_no'].tolist():\n",
    "        data1 = hydro_subset[hydro_subset['site_no'] == sites.index[idx]]['mean_depth_va']\n",
    "        data1 = data1[(data1 > data1.quantile(pct)) & (data1 < data1.quantile(1-pct))].values\n",
    "\n",
    "        data2 = ifmha[ifmha['site_no'] == sites.index[idx]]['chan_mean_depth']\n",
    "        data2 = data2[(data2 > data2.quantile(pct)) & (data2 < data2.quantile(1-pct))].values\n",
    "    else:\n",
    "        print(f'site number: {sites.index[idx]} is not in IFMHA!')\n",
    "        continue\n",
    "\n",
    "    max_val = np.max(np.hstack((data1, data2)))\n",
    "    min_val = np.min(np.hstack((data1, data2)))\n",
    "    q, _ = np.histogram(data1, range=(min_val, max_val), density=True)\n",
    "    p, _ = np.histogram(data2, range=(min_val, max_val), density=True)\n",
    "    stat_dist.append(jensenshannon(p, q))\n",
    "\n",
    "\n",
    "    print(f'site number: {sites.index[idx]}, Jensen-Shannon Divergence: {jensenshannon(p, q):.4f}, HYDRoSWOT: {data1.shape[0]}, IFMHA: {data2.shape[0]}')\n",
    "    # qqplot(data1, data2)"
   ],
   "metadata": {
    "collapsed": false,
    "ExecuteTime": {
     "start_time": "2023-04-14T15:05:00.393725Z",
     "end_time": "2023-04-14T15:05:29.354182Z"
    }
   }
  },
  {
   "cell_type": "code",
   "execution_count": 5,
   "outputs": [],
   "source": [
    "js_divergence_mean_depth = np.array(stat_dist)"
   ],
   "metadata": {
    "collapsed": false,
    "ExecuteTime": {
     "start_time": "2023-04-14T15:05:50.159779Z",
     "end_time": "2023-04-14T15:05:50.170759Z"
    }
   }
  },
  {
   "cell_type": "code",
   "execution_count": 7,
   "outputs": [
    {
     "name": "stdout",
     "output_type": "stream",
     "text": [
      "site number: 02239501, Jensen-Shannon Divergence: 0.4349, HYDRoSWOT: 157, IFMHA: 396\n",
      "site number: 06893000, Jensen-Shannon Divergence: 0.1723, HYDRoSWOT: 153, IFMHA: 1721\n",
      "06813500 is not in IFMHA!\n",
      "site number: 06610000, Jensen-Shannon Divergence: 0.3228, HYDRoSWOT: 138, IFMHA: 5399\n",
      "site number: 06807000, Jensen-Shannon Divergence: 0.2130, HYDRoSWOT: 132, IFMHA: 6514\n",
      "site number: 06601200, Jensen-Shannon Divergence: 0.1707, HYDRoSWOT: 130, IFMHA: 2962\n",
      "site number: 06486000, Jensen-Shannon Divergence: 0.2710, HYDRoSWOT: 128, IFMHA: 5420\n",
      "site number: 06818000, Jensen-Shannon Divergence: 0.1831, HYDRoSWOT: 109, IFMHA: 1382\n",
      "site number: 06895500, Jensen-Shannon Divergence: 0.2538, HYDRoSWOT: 103, IFMHA: 1297\n",
      "site number: 06909000, Jensen-Shannon Divergence: 0.2769, HYDRoSWOT: 103, IFMHA: 1304\n",
      "site number: 06934500, Jensen-Shannon Divergence: 0.2630, HYDRoSWOT: 83, IFMHA: 1086\n",
      "site number: 07374525, Jensen-Shannon Divergence: 0.3926, HYDRoSWOT: 73, IFMHA: 273\n",
      "site number: 07374000, Jensen-Shannon Divergence: 0.3647, HYDRoSWOT: 69, IFMHA: 266\n",
      "site number: 07022000, Jensen-Shannon Divergence: 0.2310, HYDRoSWOT: 66, IFMHA: 3068\n",
      "site number: 03378500, Jensen-Shannon Divergence: 0.3269, HYDRoSWOT: 64, IFMHA: 192\n",
      "site number: 10141000, Jensen-Shannon Divergence: 0.1722, HYDRoSWOT: 57, IFMHA: 433\n",
      "site number: 06887500, Jensen-Shannon Divergence: 0.2117, HYDRoSWOT: 57, IFMHA: 373\n",
      "site number: 04159130, Jensen-Shannon Divergence: 0.7859, HYDRoSWOT: 55, IFMHA: 143\n",
      "site number: 11370500, Jensen-Shannon Divergence: 0.3494, HYDRoSWOT: 55, IFMHA: 530\n",
      "site number: 07010000, Jensen-Shannon Divergence: 0.1666, HYDRoSWOT: 54, IFMHA: 2866\n",
      "site number: 04165710, Jensen-Shannon Divergence: 0.8326, HYDRoSWOT: 53, IFMHA: 142\n",
      "site number: 09419679, Jensen-Shannon Divergence: 0.3403, HYDRoSWOT: 53, IFMHA: 434\n",
      "site number: 10126000, Jensen-Shannon Divergence: 0.3247, HYDRoSWOT: 50, IFMHA: 729\n",
      "site number: 05587450, Jensen-Shannon Divergence: 0.4406, HYDRoSWOT: 49, IFMHA: 406\n",
      "site number: 07020500, Jensen-Shannon Divergence: 0.2253, HYDRoSWOT: 49, IFMHA: 706\n",
      "site number: 02488500, Jensen-Shannon Divergence: 0.3567, HYDRoSWOT: 48, IFMHA: 276\n",
      "site number: 05301000, Jensen-Shannon Divergence: 0.4568, HYDRoSWOT: 47, IFMHA: 795\n",
      "site number: 04165500, Jensen-Shannon Divergence: 0.3575, HYDRoSWOT: 46, IFMHA: 883\n",
      "site number: 11525500, Jensen-Shannon Divergence: 0.2673, HYDRoSWOT: 45, IFMHA: 516\n",
      "site number: 09272400, Jensen-Shannon Divergence: 0.3002, HYDRoSWOT: 46, IFMHA: 131\n",
      "site number: 11377100, Jensen-Shannon Divergence: 0.3208, HYDRoSWOT: 46, IFMHA: 418\n",
      "site number: 02358000, Jensen-Shannon Divergence: 0.3184, HYDRoSWOT: 45, IFMHA: 332\n",
      "site number: 06935965, Jensen-Shannon Divergence: 0.2120, HYDRoSWOT: 44, IFMHA: 240\n",
      "site number: 09404200, Jensen-Shannon Divergence: 0.1655, HYDRoSWOT: 44, IFMHA: 344\n",
      "site number: 13302005, Jensen-Shannon Divergence: 0.3979, HYDRoSWOT: 44, IFMHA: 389\n",
      "site number: 02489000, Jensen-Shannon Divergence: 0.2636, HYDRoSWOT: 43, IFMHA: 235\n",
      "site number: 13269000, Jensen-Shannon Divergence: 0.6624, HYDRoSWOT: 43, IFMHA: 313\n",
      "site number: 03077500, Jensen-Shannon Divergence: 0.4801, HYDRoSWOT: 43, IFMHA: 703\n",
      "site number: 02478500, Jensen-Shannon Divergence: 0.2878, HYDRoSWOT: 43, IFMHA: 303\n",
      "site number: 02479000, Jensen-Shannon Divergence: 0.5210, HYDRoSWOT: 43, IFMHA: 732\n",
      "site number: 10171000, Jensen-Shannon Divergence: 0.3937, HYDRoSWOT: 43, IFMHA: 398\n",
      "site number: 10092700, Jensen-Shannon Divergence: 0.3509, HYDRoSWOT: 42, IFMHA: 468\n",
      "site number: 06888350, Jensen-Shannon Divergence: 0.2510, HYDRoSWOT: 42, IFMHA: 347\n",
      "site number: 06894100, Jensen-Shannon Divergence: 0.2532, HYDRoSWOT: 42, IFMHA: 133\n",
      "site number: 03501975, Jensen-Shannon Divergence: 0.2633, HYDRoSWOT: 42, IFMHA: 114\n",
      "site number: 12310100, Jensen-Shannon Divergence: 0.2602, HYDRoSWOT: 41, IFMHA: 166\n",
      "site number: 02479310, Jensen-Shannon Divergence: 0.4451, HYDRoSWOT: 41, IFMHA: 206\n",
      "site number: 13213100, Jensen-Shannon Divergence: 0.4826, HYDRoSWOT: 41, IFMHA: 296\n",
      "site number: 02474560, Jensen-Shannon Divergence: 0.5053, HYDRoSWOT: 41, IFMHA: 356\n",
      "site number: 02473000, Jensen-Shannon Divergence: 0.4674, HYDRoSWOT: 41, IFMHA: 792\n",
      "site number: 11525655, Jensen-Shannon Divergence: 0.2514, HYDRoSWOT: 40, IFMHA: 271\n",
      "site number: 03303280, Jensen-Shannon Divergence: 0.6026, HYDRoSWOT: 40, IFMHA: 293\n",
      "0211139110 is not in IFMHA!\n",
      "site number: 13069500, Jensen-Shannon Divergence: 0.2584, HYDRoSWOT: 40, IFMHA: 446\n",
      "site number: 02475000, Jensen-Shannon Divergence: 0.4692, HYDRoSWOT: 40, IFMHA: 763\n",
      "15514000 is not in IFMHA!\n",
      "site number: 01481500, Jensen-Shannon Divergence: 0.4512, HYDRoSWOT: 39, IFMHA: 830\n",
      "site number: 11372000, Jensen-Shannon Divergence: 0.3505, HYDRoSWOT: 39, IFMHA: 467\n",
      "site number: 11516530, Jensen-Shannon Divergence: 0.3450, HYDRoSWOT: 39, IFMHA: 456\n",
      "site number: 09152500, Jensen-Shannon Divergence: 0.4486, HYDRoSWOT: 38, IFMHA: 387\n",
      "site number: 03081000, Jensen-Shannon Divergence: 0.3926, HYDRoSWOT: 38, IFMHA: 347\n",
      "site number: 05311000, Jensen-Shannon Divergence: 0.4407, HYDRoSWOT: 38, IFMHA: 805\n",
      "site number: 05487520, Jensen-Shannon Divergence: 0.3950, HYDRoSWOT: 38, IFMHA: 142\n",
      "site number: 05465500, Jensen-Shannon Divergence: 0.3208, HYDRoSWOT: 38, IFMHA: 1142\n",
      "site number: 11376550, Jensen-Shannon Divergence: 0.2786, HYDRoSWOT: 37, IFMHA: 429\n",
      "11447650 is not in IFMHA!\n",
      "site number: 05330000, Jensen-Shannon Divergence: 0.4136, HYDRoSWOT: 37, IFMHA: 1098\n",
      "site number: 09380000, Jensen-Shannon Divergence: 0.5757, HYDRoSWOT: 36, IFMHA: 454\n",
      "site number: 04119400, Jensen-Shannon Divergence: 0.4180, HYDRoSWOT: 37, IFMHA: 112\n",
      "site number: 13062500, Jensen-Shannon Divergence: 0.4766, HYDRoSWOT: 37, IFMHA: 409\n",
      "site number: 13251000, Jensen-Shannon Divergence: 0.4679, HYDRoSWOT: 37, IFMHA: 377\n",
      "site number: 09261000, Jensen-Shannon Divergence: 0.2364, HYDRoSWOT: 36, IFMHA: 481\n",
      "site number: 07018500, Jensen-Shannon Divergence: 0.2817, HYDRoSWOT: 36, IFMHA: 469\n",
      "site number: 03443000, Jensen-Shannon Divergence: 0.3175, HYDRoSWOT: 36, IFMHA: 1104\n",
      "site number: 06876900, Jensen-Shannon Divergence: 0.2001, HYDRoSWOT: 36, IFMHA: 309\n",
      "site number: 11526250, Jensen-Shannon Divergence: 0.3230, HYDRoSWOT: 36, IFMHA: 206\n",
      "site number: 03374100, Jensen-Shannon Divergence: 0.2359, HYDRoSWOT: 36, IFMHA: 208\n",
      "site number: 11525854, Jensen-Shannon Divergence: 0.2181, HYDRoSWOT: 36, IFMHA: 195\n",
      "site number: 13249500, Jensen-Shannon Divergence: 0.4368, HYDRoSWOT: 36, IFMHA: 343\n",
      "site number: 05030500, Jensen-Shannon Divergence: 0.2664, HYDRoSWOT: 35, IFMHA: 243\n",
      "site number: 01660920, Jensen-Shannon Divergence: 0.6248, HYDRoSWOT: 35, IFMHA: 439\n",
      "site number: 09530000, Jensen-Shannon Divergence: 0.1895, HYDRoSWOT: 35, IFMHA: 535\n",
      "site number: 05074500, Jensen-Shannon Divergence: 0.3659, HYDRoSWOT: 35, IFMHA: 484\n",
      "site number: 13250000, Jensen-Shannon Divergence: 0.3676, HYDRoSWOT: 35, IFMHA: 281\n",
      "site number: 02243960, Jensen-Shannon Divergence: 0.5048, HYDRoSWOT: 35, IFMHA: 218\n",
      "15477740 is not in IFMHA!\n",
      "site number: 09163500, Jensen-Shannon Divergence: 0.2583, HYDRoSWOT: 35, IFMHA: 347\n",
      "site number: 05482000, Jensen-Shannon Divergence: 0.4647, HYDRoSWOT: 35, IFMHA: 649\n",
      "site number: 03171000, Jensen-Shannon Divergence: 0.4419, HYDRoSWOT: 35, IFMHA: 500\n",
      "site number: 06877600, Jensen-Shannon Divergence: 0.4935, HYDRoSWOT: 34, IFMHA: 330\n",
      "site number: 11526400, Jensen-Shannon Divergence: 0.3971, HYDRoSWOT: 34, IFMHA: 190\n",
      "site number: 13302500, Jensen-Shannon Divergence: 0.3178, HYDRoSWOT: 34, IFMHA: 298\n",
      "05465000 is not in IFMHA!\n",
      "site number: 05294000, Jensen-Shannon Divergence: 0.5566, HYDRoSWOT: 34, IFMHA: 753\n",
      "site number: 02240000, Jensen-Shannon Divergence: 0.5837, HYDRoSWOT: 34, IFMHA: 334\n",
      "site number: 05344500, Jensen-Shannon Divergence: 0.2691, HYDRoSWOT: 34, IFMHA: 97\n",
      "site number: 03501500, Jensen-Shannon Divergence: 0.4951, HYDRoSWOT: 33, IFMHA: 72\n",
      "site number: 03363000, Jensen-Shannon Divergence: 0.3011, HYDRoSWOT: 33, IFMHA: 212\n",
      "site number: 07037500, Jensen-Shannon Divergence: 0.2898, HYDRoSWOT: 33, IFMHA: 836\n",
      "site number: 03165500, Jensen-Shannon Divergence: 0.3716, HYDRoSWOT: 32, IFMHA: 544\n",
      "site number: 01487000, Jensen-Shannon Divergence: 0.3890, HYDRoSWOT: 33, IFMHA: 745\n",
      "site number: 03350800, Jensen-Shannon Divergence: 0.2104, HYDRoSWOT: 33, IFMHA: 145\n",
      "site number: 03176500, Jensen-Shannon Divergence: 0.4435, HYDRoSWOT: 33, IFMHA: 733\n",
      "site number: 12308000, Jensen-Shannon Divergence: 0.4475, HYDRoSWOT: 33, IFMHA: 96\n",
      "site number: 10039500, Jensen-Shannon Divergence: 0.2678, HYDRoSWOT: 33, IFMHA: 973\n",
      "site number: 02175500, Jensen-Shannon Divergence: 0.2539, HYDRoSWOT: 33, IFMHA: 338\n",
      "site number: 02019500, Jensen-Shannon Divergence: 0.3093, HYDRoSWOT: 33, IFMHA: 703\n",
      "site number: 07061290, Jensen-Shannon Divergence: 0.4453, HYDRoSWOT: 33, IFMHA: 195\n",
      "site number: 06891000, Jensen-Shannon Divergence: 0.3100, HYDRoSWOT: 32, IFMHA: 362\n",
      "site number: 05453520, Jensen-Shannon Divergence: 0.3178, HYDRoSWOT: 32, IFMHA: 911\n",
      "site number: 021973269, Jensen-Shannon Divergence: 0.2214, HYDRoSWOT: 32, IFMHA: 82\n",
      "022907647 is not in IFMHA!\n",
      "site number: 03527000, Jensen-Shannon Divergence: 0.4100, HYDRoSWOT: 32, IFMHA: 701\n",
      "site number: 05304500, Jensen-Shannon Divergence: 0.5296, HYDRoSWOT: 32, IFMHA: 289\n",
      "site number: 03611500, Jensen-Shannon Divergence: 0.2567, HYDRoSWOT: 32, IFMHA: 859\n",
      "site number: 13213000, Jensen-Shannon Divergence: 0.2483, HYDRoSWOT: 32, IFMHA: 343\n",
      "site number: 02011800, Jensen-Shannon Divergence: 0.6082, HYDRoSWOT: 31, IFMHA: 423\n",
      "site number: 14220500, Jensen-Shannon Divergence: 0.3220, HYDRoSWOT: 31, IFMHA: 364\n",
      "site number: 03079000, Jensen-Shannon Divergence: 0.6179, HYDRoSWOT: 31, IFMHA: 557\n",
      "site number: 02040892, Jensen-Shannon Divergence: 0.4450, HYDRoSWOT: 31, IFMHA: 95\n",
      "site number: 06902000, Jensen-Shannon Divergence: 0.4846, HYDRoSWOT: 31, IFMHA: 1225\n",
      "site number: 02016500, Jensen-Shannon Divergence: 0.1742, HYDRoSWOT: 31, IFMHA: 663\n",
      "10172630 is not in IFMHA!\n",
      "site number: 05331580, Jensen-Shannon Divergence: 0.3611, HYDRoSWOT: 31, IFMHA: 105\n",
      "site number: 05594100, Jensen-Shannon Divergence: 0.2632, HYDRoSWOT: 31, IFMHA: 367\n",
      "site number: 02376033, Jensen-Shannon Divergence: 0.2532, HYDRoSWOT: 31, IFMHA: 205\n",
      "03276500 is not in IFMHA!\n",
      "site number: 06879100, Jensen-Shannon Divergence: 0.3469, HYDRoSWOT: 31, IFMHA: 324\n",
      "site number: 06889000, Jensen-Shannon Divergence: 0.4210, HYDRoSWOT: 31, IFMHA: 387\n",
      "site number: 05344490, Jensen-Shannon Divergence: 0.1660, HYDRoSWOT: 31, IFMHA: 123\n",
      "site number: 03325500, Jensen-Shannon Divergence: 0.2408, HYDRoSWOT: 31, IFMHA: 262\n",
      "07352000 is not in IFMHA!\n",
      "site number: 05345000, Jensen-Shannon Divergence: 0.5248, HYDRoSWOT: 31, IFMHA: 329\n",
      "site number: 02359170, Jensen-Shannon Divergence: 0.3811, HYDRoSWOT: 31, IFMHA: 237\n",
      "site number: 03363900, Jensen-Shannon Divergence: 0.4313, HYDRoSWOT: 30, IFMHA: 334\n",
      "15514003 is not in IFMHA!\n",
      "site number: 12322000, Jensen-Shannon Divergence: 0.3703, HYDRoSWOT: 30, IFMHA: 369\n",
      "site number: 11517500, Jensen-Shannon Divergence: 0.4090, HYDRoSWOT: 30, IFMHA: 424\n",
      "site number: 12417610, Jensen-Shannon Divergence: 0.3411, HYDRoSWOT: 30, IFMHA: 79\n",
      "site number: 12419000, Jensen-Shannon Divergence: 0.3191, HYDRoSWOT: 30, IFMHA: 336\n",
      "site number: 11389500, Jensen-Shannon Divergence: 0.3161, HYDRoSWOT: 30, IFMHA: 269\n",
      "site number: 02319000, Jensen-Shannon Divergence: 0.2658, HYDRoSWOT: 30, IFMHA: 699\n",
      "site number: 11390500, Jensen-Shannon Divergence: 0.2637, HYDRoSWOT: 30, IFMHA: 257\n",
      "site number: 01582500, Jensen-Shannon Divergence: 0.6242, HYDRoSWOT: 29, IFMHA: 385\n",
      "site number: 06906500, Jensen-Shannon Divergence: 0.2009, HYDRoSWOT: 29, IFMHA: 189\n",
      "site number: 02075500, Jensen-Shannon Divergence: 0.1732, HYDRoSWOT: 29, IFMHA: 561\n",
      "site number: 02013100, Jensen-Shannon Divergence: 0.5419, HYDRoSWOT: 29, IFMHA: 391\n",
      "site number: 05465700, Jensen-Shannon Divergence: 0.2702, HYDRoSWOT: 29, IFMHA: 118\n",
      "site number: 06810070, Jensen-Shannon Divergence: 0.4378, HYDRoSWOT: 29, IFMHA: 181\n",
      "site number: 07019000, Jensen-Shannon Divergence: 0.5399, HYDRoSWOT: 29, IFMHA: 763\n",
      "site number: 02320000, Jensen-Shannon Divergence: 0.2423, HYDRoSWOT: 29, IFMHA: 129\n",
      "site number: 01053600, Jensen-Shannon Divergence: 0.2218, HYDRoSWOT: 29, IFMHA: 92\n",
      "site number: 05305000, Jensen-Shannon Divergence: 0.4229, HYDRoSWOT: 29, IFMHA: 189\n",
      "site number: 10038000, Jensen-Shannon Divergence: 0.3833, HYDRoSWOT: 29, IFMHA: 382\n",
      "site number: 06934000, Jensen-Shannon Divergence: 0.4519, HYDRoSWOT: 29, IFMHA: 451\n",
      "site number: 05116000, Jensen-Shannon Divergence: 0.4743, HYDRoSWOT: 29, IFMHA: 345\n",
      "site number: 05227500, Jensen-Shannon Divergence: 0.1650, HYDRoSWOT: 29, IFMHA: 597\n",
      "site number: 03081500, Jensen-Shannon Divergence: 0.5135, HYDRoSWOT: 29, IFMHA: 178\n",
      "site number: 03083500, Jensen-Shannon Divergence: 0.3614, HYDRoSWOT: 29, IFMHA: 371\n",
      "site number: 03287500, Jensen-Shannon Divergence: 0.3512, HYDRoSWOT: 28, IFMHA: 728\n",
      "site number: 07061600, Jensen-Shannon Divergence: 0.2186, HYDRoSWOT: 28, IFMHA: 129\n",
      "site number: 07062500, Jensen-Shannon Divergence: 0.2535, HYDRoSWOT: 28, IFMHA: 192\n",
      "site number: 09362520, Jensen-Shannon Divergence: 0.4434, HYDRoSWOT: 28, IFMHA: 174\n",
      "site number: 05051300, Jensen-Shannon Divergence: 0.5241, HYDRoSWOT: 28, IFMHA: 301\n",
      "site number: 04119000, Jensen-Shannon Divergence: 0.2264, HYDRoSWOT: 28, IFMHA: 826\n",
      "site number: 09070500, Jensen-Shannon Divergence: 0.4457, HYDRoSWOT: 28, IFMHA: 329\n",
      "site number: 01491000, Jensen-Shannon Divergence: 0.5131, HYDRoSWOT: 28, IFMHA: 932\n",
      "site number: 14174000, Jensen-Shannon Divergence: 0.2658, HYDRoSWOT: 28, IFMHA: 160\n",
      "site number: 04182769, Jensen-Shannon Divergence: 0.2374, HYDRoSWOT: 28, IFMHA: 74\n",
      "site number: 11517000, Jensen-Shannon Divergence: 0.3476, HYDRoSWOT: 28, IFMHA: 274\n",
      "site number: 02051190, Jensen-Shannon Divergence: 0.3263, HYDRoSWOT: 28, IFMHA: 100\n",
      "site number: 13057000, Jensen-Shannon Divergence: 0.4319, HYDRoSWOT: 28, IFMHA: 175\n",
      "site number: 09217000, Jensen-Shannon Divergence: 0.5929, HYDRoSWOT: 28, IFMHA: 387\n",
      "site number: 11530500, Jensen-Shannon Divergence: 0.2690, HYDRoSWOT: 28, IFMHA: 323\n"
     ]
    }
   ],
   "source": [
    "pct = 0.005\n",
    "stat_dist = [] # statistical distance\n",
    "\n",
    "for idx, site in enumerate(sites):\n",
    "    if sites.index[idx] in ifmha['site_no'].tolist():\n",
    "        data1 = hydro_subset[hydro_subset['site_no'] == sites.index[idx]]['max_depth_va']\n",
    "        data1 = data1[(data1 > data1.quantile(pct)) & (data1 < data1.quantile(1-pct))].values\n",
    "\n",
    "        data2 = ifmha[ifmha['site_no'] == sites.index[idx]]['chan_max_depth']\n",
    "        data2 = data2[(data2 > data2.quantile(pct)) & (data2 < data2.quantile(1-pct))].values\n",
    "    else:\n",
    "        print(f'{sites.index[idx]} is not in IFMHA!')\n",
    "        continue\n",
    "\n",
    "    max_val = np.max(np.hstack((data1, data2)))\n",
    "    min_val = np.min(np.hstack((data1, data2)))\n",
    "    q, _ = np.histogram(data1, range=(min_val, max_val), density=True)\n",
    "    p, _ = np.histogram(data2, range=(min_val, max_val), density=True)\n",
    "    stat_dist.append(jensenshannon(p, q))\n",
    "\n",
    "    print(f'site number: {sites.index[idx]}, Jensen-Shannon Divergence: {jensenshannon(p, q):.4f}, HYDRoSWOT: {data1.shape[0]}, IFMHA: {data2.shape[0]}')\n",
    "    # qqplot(data1, data2)\n",
    "\n",
    "    # max_val = np.max(np.hstack((data1, data2)))\n",
    "    # min_val = np.min(np.hstack((data1, data2)))\n",
    "    # fig, (ax1, ax2) = plt.subplots(figsize=(12,6), ncols=2)\n",
    "    # ax1.hist(data1, range=(min_val, max_val), density=True)\n",
    "    # ax2.hist(data2, range=(min_val, max_val), density=True)\n",
    "    # plt.show()"
   ],
   "metadata": {
    "collapsed": false,
    "ExecuteTime": {
     "start_time": "2023-04-14T15:06:22.194561Z",
     "end_time": "2023-04-14T15:06:51.153022Z"
    }
   }
  },
  {
   "cell_type": "code",
   "execution_count": 8,
   "outputs": [],
   "source": [
    "js_divergence_max_depth = np.array(stat_dist)"
   ],
   "metadata": {
    "collapsed": false,
    "ExecuteTime": {
     "start_time": "2023-04-14T15:06:52.847602Z",
     "end_time": "2023-04-14T15:06:52.857585Z"
    }
   }
  },
  {
   "cell_type": "code",
   "execution_count": 20,
   "outputs": [
    {
     "data": {
      "text/plain": "<Figure size 600x600 with 1 Axes>",
      "image/png": "[encoded data removed]"
     },
     "metadata": {},
     "output_type": "display_data"
    }
   ],
   "source": [
    "fig, ax = plt.subplots(nrows=1, ncols=1, figsize=(6, 6), constrained_layout=True)\n",
    "\n",
    "ax.boxplot([js_divergence_mean_depth, js_divergence_max_depth])\n",
    "ax.set_xticklabels(['Mean Depth', 'Max Depth'])\n",
    "ax.tick_params(axis='x', labelrotation=0, labelsize=16)\n",
    "ax.grid(True)\n",
    "# ax.set_title(f'Jensen-Shannon Divergence')\n",
    "\n",
    "plt.savefig(f'./js-divergence.pdf', format='pdf', bbox_inches='tight', pad_inches=0.05)\n",
    "plt.show()"
   ],
   "metadata": {
    "collapsed": false,
    "ExecuteTime": {
     "start_time": "2023-04-14T17:03:28.555825Z",
     "end_time": "2023-04-14T17:03:28.817404Z"
    }
   }
  },
  {
   "cell_type": "code",
   "execution_count": 10,
   "outputs": [
    {
     "data": {
      "text/plain": "       Mean Depth   Max Depth\ncount  163.000000  163.000000\nmean     0.311464    0.360672\nstd      0.107742    0.127717\nmin      0.113473    0.165023\n25%      0.236842    0.261634\n50%      0.296484    0.346904\n75%      0.369307    0.445039\nmax      0.619479    0.832555",
      "text/html": "<div>\n<style scoped>\n    .dataframe tbody tr th:only-of-type {\n        vertical-align: middle;\n    }\n\n    .dataframe tbody tr th {\n        vertical-align: top;\n    }\n\n    .dataframe thead th {\n        text-align: right;\n    }\n</style>\n<table border=\"1\" class=\"dataframe\">\n  <thead>\n    <tr style=\"text-align: right;\">\n      <th></th>\n      <th>Mean Depth</th>\n      <th>Max Depth</th>\n    </tr>\n  </thead>\n  <tbody>\n    <tr>\n      <th>count</th>\n      <td>163.000000</td>\n      <td>163.000000</td>\n    </tr>\n    <tr>\n      <th>mean</th>\n      <td>0.311464</td>\n      <td>0.360672</td>\n    </tr>\n    <tr>\n      <th>std</th>\n      <td>0.107742</td>\n      <td>0.127717</td>\n    </tr>\n    <tr>\n      <th>min</th>\n      <td>0.113473</td>\n      <td>0.165023</td>\n    </tr>\n    <tr>\n      <th>25%</th>\n      <td>0.236842</td>\n      <td>0.261634</td>\n    </tr>\n    <tr>\n      <th>50%</th>\n      <td>0.296484</td>\n      <td>0.346904</td>\n    </tr>\n    <tr>\n      <th>75%</th>\n      <td>0.369307</td>\n      <td>0.445039</td>\n    </tr>\n    <tr>\n      <th>max</th>\n      <td>0.619479</td>\n      <td>0.832555</td>\n    </tr>\n  </tbody>\n</table>\n</div>"
     },
     "execution_count": 10,
     "metadata": {},
     "output_type": "execute_result"
    }
   ],
   "source": [
    "pd.DataFrame({'Mean Depth': js_divergence_mean_depth, 'Max Depth': js_divergence_max_depth}).describe()"
   ],
   "metadata": {
    "collapsed": false,
    "ExecuteTime": {
     "start_time": "2023-04-14T15:07:29.855590Z",
     "end_time": "2023-04-14T15:07:29.868569Z"
    }
   }
  },
  {
   "cell_type": "code",
   "execution_count": 14,
   "outputs": [],
   "source": [
    "import numbers\n",
    "import numpy as np\n",
    "from sklearn.metrics import mean_squared_error, r2_score, mean_absolute_error\n",
    "import matplotlib.pyplot as plt\n",
    "import seaborn as sns\n",
    "sns.set(style = 'darkgrid')\n",
    "\n",
    "plt.rcParams.update({\n",
    "    # 'font.sans-serif': 'Comic Sans MS',\n",
    "    'font.family': 'serif'\n",
    "})\n",
    "def qqplot(y_test, y_pred, yax1='Depth (m)' ,axis_names=None, site_name=None, quantiles=None):\n",
    "\n",
    "    fig, (ax1, ax2, ax3) = plt.subplots(nrows=1, ncols=3, figsize=(12, 4), constrained_layout=True)\n",
    "\n",
    "    if axis_names is None:\n",
    "        y_test_name='GT'\n",
    "        y_pred_name='MODEL'\n",
    "    else:\n",
    "        y_test_name=axis_names[0]\n",
    "        y_pred_name=axis_names[1]\n",
    "\n",
    "    ax1.boxplot([y_test, y_pred])\n",
    "\n",
    "    ax1.set_xticklabels([y_test_name, y_pred_name])\n",
    "    ax1.tick_params(axis='x', labelrotation=0, labelsize=12)\n",
    "    ax1.set_ylabel(yax1)\n",
    "    ax1.grid(True)\n",
    "    # ax1.set_title(f'BOX PLOT')\n",
    "\n",
    "    x1 = np.sort(y_test)\n",
    "    y1 = np.arange(1, len(y_test) + 1) / len(y_test)\n",
    "    ax2.plot(x1, y1, linestyle='none', marker='o', alpha=0.2, label=y_test_name)\n",
    "    # ax2.plot(x1, y1, linestyle='-', alpha=0.8, label='GT')\n",
    "\n",
    "    x2 = np.sort(y_pred)\n",
    "    y2 = np.arange(1, len(y_pred) + 1) / len(y_pred)\n",
    "    # ax1.plot(x2, y2, linestyle='none', marker='.', alpha=0.5, label='GT')\n",
    "    ax2.plot(x2, y2, linestyle='-.', alpha=1, label=y_pred_name)\n",
    "\n",
    "    # ax2.set_title(f'ECDF')\n",
    "    ax2.legend()\n",
    "\n",
    "    if quantiles is None:\n",
    "        quantiles = min(len(y_test), len(y_pred))\n",
    "    quantiles = np.linspace(start=0, stop=1, num=int(quantiles))\n",
    "\n",
    "    x_quantiles = np.quantile(y_test, quantiles, method='nearest')\n",
    "    y_quantiles = np.quantile(y_pred, quantiles, method='nearest')\n",
    "\n",
    "    ax3.scatter(x_quantiles, y_quantiles)\n",
    "    # ax3.plot([0, 100], [0, 100], '--', color = 'black', linewidth=1.5)\n",
    "\n",
    "    max_value = np.array((x_quantiles, y_quantiles)).max()\n",
    "    ax3.plot([0, max_value], [0, max_value], '--', color = 'black', linewidth=1.5)\n",
    "\n",
    "    ax3.set_xlabel(y_test_name)\n",
    "    ax3.set_ylabel(y_pred_name)\n",
    "    # ax3.set_title(f'Q-Q PLOT')\n",
    "\n",
    "    if site_name is not None:\n",
    "        plt.savefig(f'./{site_name}.pdf', format='pdf', bbox_inches='tight', pad_inches=0.05)\n",
    "\n",
    "    plt.show()"
   ],
   "metadata": {
    "collapsed": false,
    "ExecuteTime": {
     "start_time": "2023-04-14T16:48:19.438623Z",
     "end_time": "2023-04-14T16:48:19.450603Z"
    }
   }
  },
  {
   "cell_type": "code",
   "execution_count": 19,
   "outputs": [
    {
     "name": "stdout",
     "output_type": "stream",
     "text": [
      "site number: 05453520, Jensen-Shannon Divergence: 0.3507, HYDRoSWOT: 32, IFMHA: 901\n"
     ]
    },
    {
     "data": {
      "text/plain": "<Figure size 1200x400 with 3 Axes>",
      "image/png": "[encoded data removed]"
     },
     "metadata": {},
     "output_type": "display_data"
    }
   ],
   "source": [
    "site = '05453520'\n",
    "pct = 0.01\n",
    "field='max'\n",
    "\n",
    "data1 = hydro_subset[hydro_subset['site_no'] == site][f'{field}_depth_va']\n",
    "data1 = data1[(data1 > data1.quantile(pct)) & (data1 < data1.quantile(1-pct))].values\n",
    "data1 = data1 * 0.3048\n",
    "\n",
    "data2 = ifmha[ifmha['site_no'] == site][f'chan_{field}_depth']\n",
    "data2 = data2[(data2 > data2.quantile(pct)) & (data2 < data2.quantile(1-pct))].values\n",
    "data2 = data2 * 0.3048\n",
    "\n",
    "max_val = np.max(np.hstack((data1, data2)))\n",
    "min_val = np.min(np.hstack((data1, data2)))\n",
    "q, _ = np.histogram(data1, range=(min_val, max_val), density=True)\n",
    "p, _ = np.histogram(data2, range=(min_val, max_val), density=True)\n",
    "\n",
    "print(f'site number: {site}, Jensen-Shannon Divergence: {jensenshannon(p, q):.4f}, HYDRoSWOT: {data1.shape[0]}, IFMHA: {data2.shape[0]}')\n",
    "qqplot(data1, data2, yax1=f'{field.title()} Depth (m)', axis_names=['HYDRoSWOT', 'IFMHA'], site_name=site, quantiles=100)\n",
    "# The x – quantiles are lower than the y – quantiles. It indicates x values have a tendency to be lower than the y values."
   ],
   "metadata": {
    "collapsed": false,
    "ExecuteTime": {
     "start_time": "2023-04-14T17:00:45.206403Z",
     "end_time": "2023-04-14T17:00:46.242737Z"
    }
   }
  },
  {
   "cell_type": "code",
   "execution_count": 82,
   "outputs": [],
   "source": [
    "def kl_divergence(p, q):\n",
    "    return np.sum(np.where(p != 0, p * np.log(p / q), 0))"
   ],
   "metadata": {
    "collapsed": false
   }
  },
  {
   "cell_type": "code",
   "execution_count": 85,
   "outputs": [],
   "source": [
    "def llv(p, q):\n",
    "    return - np.sum(p * np.log(q))"
   ],
   "metadata": {
    "collapsed": false
   }
  }
 ],
 "metadata": {
  "kernelspec": {
   "display_name": "Python 3",
   "language": "python",
   "name": "python3"
  },
  "language_info": {
   "codemirror_mode": {
    "name": "ipython",
    "version": 2
   },
   "file_extension": ".py",
   "mimetype": "text/x-python",
   "name": "python",
   "nbconvert_exporter": "python",
   "pygments_lexer": "ipython2",
   "version": "2.7.6"
  }
 },
 "nbformat": 4,
 "nbformat_minor": 0
}
