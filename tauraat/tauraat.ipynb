{
 "cells": [
  {
   "cell_type": "markdown",
   "source": [
    "# Importing Basic Packages"
   ],
   "metadata": {
    "collapsed": false
   }
  },
  {
   "cell_type": "code",
   "execution_count": 1,
   "metadata": {
    "collapsed": true
   },
   "outputs": [],
   "source": [
    "import pandas as pd\n",
    "import numpy as np\n",
    "import matplotlib.pyplot as plt\n",
    "import seaborn as sns\n",
    "sns.set(style = 'darkgrid')"
   ]
  },
  {
   "cell_type": "markdown",
   "source": [
    "# Downloading TAURAAT"
   ],
   "metadata": {
    "collapsed": false
   }
  },
  {
   "cell_type": "code",
   "execution_count": 7,
   "outputs": [],
   "source": [
    "import requests\n",
    "from io import StringIO\n",
    "import concurrent.futures\n",
    "import csv"
   ],
   "metadata": {
    "collapsed": false
   }
  },
  {
   "cell_type": "code",
   "execution_count": 25,
   "outputs": [],
   "source": [
    "def usgs_site_inventory(rfile='./data/site-visit_html_request_code.txt'):\n",
    "    from datetime import date\n",
    "    with open(rfile, 'r') as f:\n",
    "        line = f.readline()\n",
    "\n",
    "    request = requests.get(line)\n",
    "    text_file = request.text\n",
    "\n",
    "    wfile = f'usgs_sv-inventory_{date.today()}.txt'\n",
    "\n",
    "    with open(f'./data/{wfile}', 'w', newline='\\n') as f:\n",
    "        f.write(text_file)\n",
    "\n",
    "    return wfile"
   ],
   "metadata": {
    "collapsed": false
   }
  },
  {
   "cell_type": "code",
   "execution_count": 26,
   "outputs": [
    {
     "name": "stdout",
     "output_type": "stream",
     "text": [
      "usgs_sv-inventory_2023-03-09\n"
     ]
    }
   ],
   "source": [
    "print(usgs_site_inventory())"
   ],
   "metadata": {
    "collapsed": false
   }
  },
  {
   "cell_type": "code",
   "execution_count": 31,
   "outputs": [],
   "source": [
    "usgs_inventory = pd.read_csv('./data/usgs_sv-inventory_2023-03-09.txt', delimiter='\\t', skiprows=31, usecols=np.arange(0, 12), quoting=csv.QUOTE_NONE,  converters={'site_no': str}, low_memory=False).loc[1:,:]"
   ],
   "metadata": {
    "collapsed": false
   }
  },
  {
   "cell_type": "code",
   "execution_count": 44,
   "outputs": [
    {
     "data": {
      "text/plain": "  agency_cd   site_no                                         station_nm  \\\n1      USGS  01010000           St. John River at Ninemile Bridge, Maine   \n2      USGS  01010070              Big Black River near Depot Mtn, Maine   \n3      USGS  01010500                    St. John River at Dickey, Maine   \n4      USGS  01011000                Allagash River near Allagash, Maine   \n5      USGS  01012790  Unnamed trib to N. Fork McLean B nr St. Agatha...   \n\n  site_tp_cd   dec_lat_va   dec_long_va coord_acy_cd dec_coord_datum_cd  \\\n1         ST  46.70055556  -69.71555560            S              NAD83   \n2         ST  46.89388889  -69.75166670            S              NAD83   \n3         ST  47.11305556  -69.08805560            S              NAD83   \n4         ST  47.06972220  -69.07944440            S              NAD83   \n5         ST  47.22550000  -68.34011110            5              NAD83   \n\n  state_cd    huc_cd drain_area_va contrib_drain_area_va  \n1       23  01010001          1341                  1341  \n2       23  01010001           171                   171  \n3       23  01010001          2680                  2680  \n4       23  01010002          1478                  1229  \n5       23  01010003          0.56                  0.56  ",
      "text/html": "<div>\n<style scoped>\n    .dataframe tbody tr th:only-of-type {\n        vertical-align: middle;\n    }\n\n    .dataframe tbody tr th {\n        vertical-align: top;\n    }\n\n    .dataframe thead th {\n        text-align: right;\n    }\n</style>\n<table border=\"1\" class=\"dataframe\">\n  <thead>\n    <tr style=\"text-align: right;\">\n      <th></th>\n      <th>agency_cd</th>\n      <th>site_no</th>\n      <th>station_nm</th>\n      <th>site_tp_cd</th>\n      <th>dec_lat_va</th>\n      <th>dec_long_va</th>\n      <th>coord_acy_cd</th>\n      <th>dec_coord_datum_cd</th>\n      <th>state_cd</th>\n      <th>huc_cd</th>\n      <th>drain_area_va</th>\n      <th>contrib_drain_area_va</th>\n    </tr>\n  </thead>\n  <tbody>\n    <tr>\n      <th>1</th>\n      <td>USGS</td>\n      <td>01010000</td>\n      <td>St. John River at Ninemile Bridge, Maine</td>\n      <td>ST</td>\n      <td>46.70055556</td>\n      <td>-69.71555560</td>\n      <td>S</td>\n      <td>NAD83</td>\n      <td>23</td>\n      <td>01010001</td>\n      <td>1341</td>\n      <td>1341</td>\n    </tr>\n    <tr>\n      <th>2</th>\n      <td>USGS</td>\n      <td>01010070</td>\n      <td>Big Black River near Depot Mtn, Maine</td>\n      <td>ST</td>\n      <td>46.89388889</td>\n      <td>-69.75166670</td>\n      <td>S</td>\n      <td>NAD83</td>\n      <td>23</td>\n      <td>01010001</td>\n      <td>171</td>\n      <td>171</td>\n    </tr>\n    <tr>\n      <th>3</th>\n      <td>USGS</td>\n      <td>01010500</td>\n      <td>St. John River at Dickey, Maine</td>\n      <td>ST</td>\n      <td>47.11305556</td>\n      <td>-69.08805560</td>\n      <td>S</td>\n      <td>NAD83</td>\n      <td>23</td>\n      <td>01010001</td>\n      <td>2680</td>\n      <td>2680</td>\n    </tr>\n    <tr>\n      <th>4</th>\n      <td>USGS</td>\n      <td>01011000</td>\n      <td>Allagash River near Allagash, Maine</td>\n      <td>ST</td>\n      <td>47.06972220</td>\n      <td>-69.07944440</td>\n      <td>S</td>\n      <td>NAD83</td>\n      <td>23</td>\n      <td>01010002</td>\n      <td>1478</td>\n      <td>1229</td>\n    </tr>\n    <tr>\n      <th>5</th>\n      <td>USGS</td>\n      <td>01012790</td>\n      <td>Unnamed trib to N. Fork McLean B nr St. Agatha...</td>\n      <td>ST</td>\n      <td>47.22550000</td>\n      <td>-68.34011110</td>\n      <td>5</td>\n      <td>NAD83</td>\n      <td>23</td>\n      <td>01010003</td>\n      <td>0.56</td>\n      <td>0.56</td>\n    </tr>\n  </tbody>\n</table>\n</div>"
     },
     "execution_count": 44,
     "metadata": {},
     "output_type": "execute_result"
    }
   ],
   "source": [
    "usgs_inventory.head()"
   ],
   "metadata": {
    "collapsed": false
   }
  },
  {
   "cell_type": "code",
   "execution_count": 45,
   "outputs": [],
   "source": [
    "def usgs_site_visit(site_number):\n",
    "\n",
    "    url = f'https://waterdata.usgs.gov/nwis/measurements?site_no={site_number}&agency_cd=USGS&format=rdb_expanded'\n",
    "    try:\n",
    "        request = requests.get(url)\n",
    "        text_file = request.text\n",
    "        if \"No site\" not in text_file:\n",
    "            df = pd.read_csv(StringIO(text_file), delimiter='\\t', skiprows=14, usecols=np.arange(0, 32), quoting=csv.QUOTE_NONE,  converters={'site_no': str}).loc[1:,:]\n",
    "            print(\"processing:\", site_number)\n",
    "            return df\n",
    "        else:\n",
    "            print(\"processing:\", site_number, \"No site found\")\n",
    "            return pd.DataFrame()\n",
    "    except pd.errors.ParserError as err:\n",
    "        print(\"processing:\", site_number, err)\n",
    "        return pd.DataFrame()\n",
    "    except:\n",
    "        print(\"processing:\", site_number, \"Unexpected Error!\")\n",
    "        return pd.DataFrame()\n"
   ],
   "metadata": {
    "collapsed": false
   }
  },
  {
   "cell_type": "code",
   "execution_count": null,
   "outputs": [],
   "source": [
    "with concurrent.futures.ThreadPoolExecutor() as exe:\n",
    "    dataset = list(exe.map(usgs_site_visit, usgs_inventory['site_no'].to_list()))"
   ],
   "metadata": {
    "collapsed": false,
    "pycharm": {
     "is_executing": true
    }
   }
  },
  {
   "cell_type": "code",
   "execution_count": 47,
   "outputs": [],
   "source": [
    "from datetime import date\n",
    "dataset = pd.concat(dataset)\n",
    "dataset.to_csv(f'./data/TAURAAT-{date.today()}.csv', sep=',', encoding='utf-8', index=False)"
   ],
   "metadata": {
    "collapsed": false
   }
  },
  {
   "cell_type": "code",
   "execution_count": 2,
   "outputs": [],
   "source": [
    "HYDRoSWOT = pd.read_csv('./HYDRoSWOT/SWOT_ADCP_Dataset.csv', converters={'site_no': str}, low_memory=False)"
   ],
   "metadata": {
    "collapsed": false
   }
  },
  {
   "cell_type": "markdown",
   "source": [
    "## Request from USGS Web Service"
   ],
   "metadata": {
    "collapsed": false
   }
  },
  {
   "cell_type": "code",
   "execution_count": 1,
   "outputs": [],
   "source": [
    "# TODO: add the request codes here."
   ],
   "metadata": {
    "collapsed": false
   }
  },
  {
   "cell_type": "code",
   "execution_count": 6,
   "outputs": [],
   "source": [
    "usgs_fm = pd.read_csv('./USGS_Field-measurements.csv', converters={'site_no': str}, low_memory=False)"
   ],
   "metadata": {
    "collapsed": false
   }
  },
  {
   "cell_type": "markdown",
   "source": [
    "## Merging data from HYDRoSWOT\n",
    "### Select Subset of HYDRoSWOT with Desired Columns"
   ],
   "metadata": {
    "collapsed": false
   }
  },
  {
   "cell_type": "code",
   "execution_count": 4,
   "outputs": [],
   "source": [
    "HYDRoSWOT_subset_columns = ['site_no', 'station_nm', 'dec_lat_va', 'dec_long_va', 'site_tp_cd', 'drain_area_va', 'contrib_drain_area_va']\n",
    "HYDRoSWOT_subset = HYDRoSWOT[HYDRoSWOT_subset_columns]\n",
    "HYDRoSWOT_subset.drop_duplicates(subset='site_no', keep='first', inplace=True)"
   ],
   "metadata": {
    "collapsed": false
   }
  },
  {
   "cell_type": "code",
   "execution_count": 7,
   "outputs": [
    {
     "name": "stdout",
     "output_type": "stream",
     "text": [
      "(2802532, 37)\n"
     ]
    },
    {
     "name": "stderr",
     "output_type": "stream",
     "text": [
      "C:\\Users\\SERFANI\\AppData\\Local\\Temp\\ipykernel_10272\\4006118527.py:4: SettingWithCopyWarning: \n",
      "A value is trying to be set on a copy of a slice from a DataFrame.\n",
      "Try using .loc[row_indexer,col_indexer] = value instead\n",
      "\n",
      "See the caveats in the documentation: https://pandas.pydata.org/pandas-docs/stable/user_guide/indexing.html#returning-a-view-versus-a-copy\n",
      "  tauraat[\"measurement_dt\"] = pd.to_datetime(tauraat[\"measurement_dt\"])\n"
     ]
    }
   ],
   "source": [
    "df = pd.merge(usgs_fm, HYDRoSWOT_subset, how=\"left\", on=[\"site_no\"])\n",
    "reordering_columns=['site_no', 'station_nm', 'dec_lat_va', 'dec_long_va', 'site_tp_cd', 'drain_area_va', 'contrib_drain_area_va', 'measurement_nu', 'measurement_dt', 'tz_cd', 'q_meas_used_fg', 'party_nm', 'site_visit_coll_agency_cd', 'gage_height_va', 'discharge_va', 'measured_rating_diff', 'gage_va_change', 'gage_va_time', 'control_type_cd', 'discharge_cd', 'chan_nu', 'chan_name', 'meas_type', 'streamflow_method', 'velocity_method', 'chan_discharge', 'chan_width', 'chan_area', 'chan_velocity', 'chan_stability', 'chan_material', 'chan_evenness', 'long_vel_desc', 'horz_vel_desc', 'vert_vel_desc', 'chan_loc_cd', 'chan_loc_dist']\n",
    "tauraat = df[reordering_columns]\n",
    "tauraat[\"measurement_dt\"] = pd.to_datetime(tauraat[\"measurement_dt\"])\n",
    "print(tauraat.shape)"
   ],
   "metadata": {
    "collapsed": false
   }
  },
  {
   "cell_type": "code",
   "execution_count": 8,
   "outputs": [
    {
     "data": {
      "text/plain": "    site_no                                station_nm  dec_lat_va  \\\n0  01010000  St. John River at Ninemile Bridge, Maine   46.700556   \n1  01010000  St. John River at Ninemile Bridge, Maine   46.700556   \n2  01010000  St. John River at Ninemile Bridge, Maine   46.700556   \n3  01010000  St. John River at Ninemile Bridge, Maine   46.700556   \n4  01010000  St. John River at Ninemile Bridge, Maine   46.700556   \n\n   dec_long_va site_tp_cd  drain_area_va  contrib_drain_area_va  \\\n0   -69.715556         ST         1341.0                 1341.0   \n1   -69.715556         ST         1341.0                 1341.0   \n2   -69.715556         ST         1341.0                 1341.0   \n3   -69.715556         ST         1341.0                 1341.0   \n4   -69.715556         ST         1341.0                 1341.0   \n\n  measurement_nu measurement_dt tz_cd  ... chan_area chan_velocity  \\\n0              1     1950-11-28   NaN  ...       NaN           NaN   \n1              2     1950-11-29   NaN  ...       NaN           NaN   \n2             17     1952-05-01   NaN  ...       NaN           NaN   \n3             18     1952-05-02   NaN  ...       NaN           NaN   \n4             24     1953-04-09   NaN  ...       NaN           NaN   \n\n  chan_stability  chan_material  chan_evenness long_vel_desc  horz_vel_desc  \\\n0           UNSP           UNSP           UNSP          unkn           UNSP   \n1           UNSP           UNSP           UNSP          unkn           UNSP   \n2           UNSP           UNSP           UNSP          unkn           UNSP   \n3           UNSP           UNSP           UNSP          unkn           UNSP   \n4           UNSP           UNSP           UNSP          unkn           UNSP   \n\n   vert_vel_desc chan_loc_cd chan_loc_dist  \n0           UNSP        UNSP           NaN  \n1           UNSP        UNSP           NaN  \n2           UNSP        UNSP           NaN  \n3           UNSP        UNSP           NaN  \n4           UNSP        UNSP           NaN  \n\n[5 rows x 37 columns]",
      "text/html": "<div>\n<style scoped>\n    .dataframe tbody tr th:only-of-type {\n        vertical-align: middle;\n    }\n\n    .dataframe tbody tr th {\n        vertical-align: top;\n    }\n\n    .dataframe thead th {\n        text-align: right;\n    }\n</style>\n<table border=\"1\" class=\"dataframe\">\n  <thead>\n    <tr style=\"text-align: right;\">\n      <th></th>\n      <th>site_no</th>\n      <th>station_nm</th>\n      <th>dec_lat_va</th>\n      <th>dec_long_va</th>\n      <th>site_tp_cd</th>\n      <th>drain_area_va</th>\n      <th>contrib_drain_area_va</th>\n      <th>measurement_nu</th>\n      <th>measurement_dt</th>\n      <th>tz_cd</th>\n      <th>...</th>\n      <th>chan_area</th>\n      <th>chan_velocity</th>\n      <th>chan_stability</th>\n      <th>chan_material</th>\n      <th>chan_evenness</th>\n      <th>long_vel_desc</th>\n      <th>horz_vel_desc</th>\n      <th>vert_vel_desc</th>\n      <th>chan_loc_cd</th>\n      <th>chan_loc_dist</th>\n    </tr>\n  </thead>\n  <tbody>\n    <tr>\n      <th>0</th>\n      <td>01010000</td>\n      <td>St. John River at Ninemile Bridge, Maine</td>\n      <td>46.700556</td>\n      <td>-69.715556</td>\n      <td>ST</td>\n      <td>1341.0</td>\n      <td>1341.0</td>\n      <td>1</td>\n      <td>1950-11-28</td>\n      <td>NaN</td>\n      <td>...</td>\n      <td>NaN</td>\n      <td>NaN</td>\n      <td>UNSP</td>\n      <td>UNSP</td>\n      <td>UNSP</td>\n      <td>unkn</td>\n      <td>UNSP</td>\n      <td>UNSP</td>\n      <td>UNSP</td>\n      <td>NaN</td>\n    </tr>\n    <tr>\n      <th>1</th>\n      <td>01010000</td>\n      <td>St. John River at Ninemile Bridge, Maine</td>\n      <td>46.700556</td>\n      <td>-69.715556</td>\n      <td>ST</td>\n      <td>1341.0</td>\n      <td>1341.0</td>\n      <td>2</td>\n      <td>1950-11-29</td>\n      <td>NaN</td>\n      <td>...</td>\n      <td>NaN</td>\n      <td>NaN</td>\n      <td>UNSP</td>\n      <td>UNSP</td>\n      <td>UNSP</td>\n      <td>unkn</td>\n      <td>UNSP</td>\n      <td>UNSP</td>\n      <td>UNSP</td>\n      <td>NaN</td>\n    </tr>\n    <tr>\n      <th>2</th>\n      <td>01010000</td>\n      <td>St. John River at Ninemile Bridge, Maine</td>\n      <td>46.700556</td>\n      <td>-69.715556</td>\n      <td>ST</td>\n      <td>1341.0</td>\n      <td>1341.0</td>\n      <td>17</td>\n      <td>1952-05-01</td>\n      <td>NaN</td>\n      <td>...</td>\n      <td>NaN</td>\n      <td>NaN</td>\n      <td>UNSP</td>\n      <td>UNSP</td>\n      <td>UNSP</td>\n      <td>unkn</td>\n      <td>UNSP</td>\n      <td>UNSP</td>\n      <td>UNSP</td>\n      <td>NaN</td>\n    </tr>\n    <tr>\n      <th>3</th>\n      <td>01010000</td>\n      <td>St. John River at Ninemile Bridge, Maine</td>\n      <td>46.700556</td>\n      <td>-69.715556</td>\n      <td>ST</td>\n      <td>1341.0</td>\n      <td>1341.0</td>\n      <td>18</td>\n      <td>1952-05-02</td>\n      <td>NaN</td>\n      <td>...</td>\n      <td>NaN</td>\n      <td>NaN</td>\n      <td>UNSP</td>\n      <td>UNSP</td>\n      <td>UNSP</td>\n      <td>unkn</td>\n      <td>UNSP</td>\n      <td>UNSP</td>\n      <td>UNSP</td>\n      <td>NaN</td>\n    </tr>\n    <tr>\n      <th>4</th>\n      <td>01010000</td>\n      <td>St. John River at Ninemile Bridge, Maine</td>\n      <td>46.700556</td>\n      <td>-69.715556</td>\n      <td>ST</td>\n      <td>1341.0</td>\n      <td>1341.0</td>\n      <td>24</td>\n      <td>1953-04-09</td>\n      <td>NaN</td>\n      <td>...</td>\n      <td>NaN</td>\n      <td>NaN</td>\n      <td>UNSP</td>\n      <td>UNSP</td>\n      <td>UNSP</td>\n      <td>unkn</td>\n      <td>UNSP</td>\n      <td>UNSP</td>\n      <td>UNSP</td>\n      <td>NaN</td>\n    </tr>\n  </tbody>\n</table>\n<p>5 rows × 37 columns</p>\n</div>"
     },
     "execution_count": 8,
     "metadata": {},
     "output_type": "execute_result"
    }
   ],
   "source": [
    "tauraat.head()"
   ],
   "metadata": {
    "collapsed": false
   }
  },
  {
   "cell_type": "code",
   "execution_count": 9,
   "outputs": [],
   "source": [
    "tauraat.to_csv(\"./tauraat-2022-10-24.csv\", sep=',', encoding='utf-8', index=False)"
   ],
   "metadata": {
    "collapsed": false
   }
  },
  {
   "cell_type": "markdown",
   "source": [
    "# TAURAAT Description\n",
    "## Reading Dataset"
   ],
   "metadata": {
    "collapsed": false
   }
  },
  {
   "cell_type": "code",
   "execution_count": 3,
   "outputs": [],
   "source": [
    "tauraat = pd.read_csv('./tauraat-2022-10-24.csv', converters={'site_no': str}, low_memory=False)"
   ],
   "metadata": {
    "collapsed": false
   }
  },
  {
   "cell_type": "markdown",
   "source": [
    "## USGS Field Measurements Methods"
   ],
   "metadata": {
    "collapsed": false
   }
  },
  {
   "cell_type": "code",
   "execution_count": 16,
   "outputs": [
    {
     "data": {
      "text/plain": "<Figure size 1500x700 with 1 Axes>",
      "image/png": "[encoded data removed]"
     },
     "metadata": {},
     "output_type": "display_data"
    }
   ],
   "source": [
    "vm = tauraat['velocity_method'].value_counts().reset_index().rename(columns={'index': 'vm', 'velocity_method': 'freq'})\n",
    "vm.iloc[0,0]='Unknown'\n",
    "\n",
    "vm.to_csv('data/vm_data.csv', sep=',', encoding='utf-8', index=False)\n",
    "\n",
    "fig, ax = plt.subplots(figsize=(15,7))\n",
    "ax.bar(vm['vm'], vm['freq'])\n",
    "ax.set_ylabel('Frequency')\n",
    "ax.set_xlabel(\"Measurement Method\")\n",
    "plt.savefig('data/vm_barchart.png')\n",
    "plt.show()"
   ],
   "metadata": {
    "collapsed": false
   }
  },
  {
   "cell_type": "markdown",
   "source": [
    "## Merging data from NHDPlusV2\n",
    "### Reading csv files for NHDPlus Gage locations and Flowline Networks"
   ],
   "metadata": {
    "collapsed": false
   }
  },
  {
   "cell_type": "markdown",
   "source": [],
   "metadata": {
    "collapsed": false
   }
  },
  {
   "cell_type": "code",
   "execution_count": null,
   "outputs": [],
   "source": [
    "nhdp_gage = pd.read_csv('data/NHDPlus_GageLoc.csv', converters={'SOURCE_FEA': str, 'FLComID': str}, low_memory=False)\n",
    "nhdp_net = pd.read_csv('data/NHDPlus_NHDFlowline_Network.csv', usecols=['COMID', 'FTYPE', 'StreamOrde', 'SLOPE'], converters={'COMID': str}, low_memory = True)"
   ],
   "metadata": {
    "collapsed": false
   }
  },
  {
   "cell_type": "code",
   "execution_count": null,
   "outputs": [],
   "source": [
    "candidates = ['SOURCE_FEA', 'FLComID', 'STATE_CD', 'STATE', 'DASqMi', 'DASqKm', 'LatSite', 'LonSite']\n",
    "nhdp_gage = nhdp_gage[candidates]\n",
    "nhdp_gage.rename(columns={'SOURCE_FEA': 'site_no', 'FLComID': 'COMID'}, inplace=True)"
   ],
   "metadata": {
    "collapsed": false
   }
  },
  {
   "cell_type": "code",
   "execution_count": null,
   "outputs": [],
   "source": [
    "df = pd.merge(tauraat, nhdp_gage, how=\"left\", on=[\"site_no\"])"
   ],
   "metadata": {
    "collapsed": false
   }
  },
  {
   "cell_type": "code",
   "execution_count": null,
   "outputs": [],
   "source": [
    "df2 = pd.merge(df, nhdp_net, how=\"left\", on=[\"COMID\"])"
   ],
   "metadata": {
    "collapsed": false
   }
  },
  {
   "cell_type": "code",
   "execution_count": null,
   "outputs": [],
   "source": [
    "print(tauraat.shape) # (2802532, 37)\n",
    "print(nhdp_gage.shape) # (28164, 8)\n",
    "print(nhdp_net.shape) # (2691339, 4)\n",
    "print(df2.shape) # (2802532, 47)"
   ],
   "metadata": {
    "collapsed": false
   }
  },
  {
   "cell_type": "code",
   "execution_count": null,
   "outputs": [],
   "source": [
    "joined_comid = pd.read_csv('data/Joined_USGS_Gages_COMID_GMGM.csv', usecols=['site_no', 'COMID', 'FTYPE', 'StreamOrde', 'SLOPE'], converters={'COMID': str, 'site_no': str}, low_memory=False)"
   ],
   "metadata": {
    "collapsed": false
   }
  },
  {
   "cell_type": "code",
   "execution_count": null,
   "outputs": [],
   "source": [
    "# Removed site_no = `05357190`, `11452905`, `13095700` in the text editor\n",
    "# site_no = '01643613' -> recieved values from  COMID = '4507448'\n",
    "# joined_comid[joined_comid['COMID'] == '4507448']\n",
    "# joined_comid.loc[joined_comid['site_no'] == '01643613', 'COMID'] = '4507448'\n",
    "# joined_comid.loc[joined_comid['site_no'] == '01643613', 'FTYPE'] = 'ArtificialPath'\n",
    "# joined_comid.loc[joined_comid['site_no'] == '01643613', 'StreamOrde'] = 7.0\n",
    "# joined_comid.loc[joined_comid['site_no'] == '01643613', 'SLOPE'] = 1.e-05"
   ],
   "metadata": {
    "collapsed": false
   }
  },
  {
   "cell_type": "code",
   "execution_count": null,
   "outputs": [],
   "source": [
    "df3 = tauraat.set_index('site_no').combine_first(joined_comid.set_index('site_no'))\n",
    "df3.reset_index(drop=False, inplace=True) # (2802532, 47)"
   ],
   "metadata": {
    "collapsed": false
   }
  },
  {
   "cell_type": "code",
   "execution_count": null,
   "outputs": [],
   "source": [
    "df3.to_csv('/data/TAURAAT-HYDRoSWOT-NHDPlusV2.csv', sep=',', encoding='utf-8', index=False)"
   ],
   "metadata": {
    "collapsed": false
   }
  },
  {
   "cell_type": "markdown",
   "source": [
    "## Excluded Site Stations"
   ],
   "metadata": {
    "collapsed": false
   }
  },
  {
   "cell_type": "code",
   "execution_count": 26,
   "outputs": [],
   "source": [
    "in_HYDRoSWOT = ['02204134', '05429510', '07348500', '07353970', '08013630', '08012770', '08013650', '08013850', '08013947', '08027150', '08105897', '15120650', '15304600', '15305050', '15305352', '15305420', '15305300', '15305350', '15305650', '15305698', '15305260', '15305450', '15355000', '302134096091800', '55559999', '600954134422900', '605008135104100', '620322135395300', '631020139395400', '633300139475100', '66666609']"
   ],
   "metadata": {
    "collapsed": false
   }
  },
  {
   "cell_type": "code",
   "execution_count": 29,
   "outputs": [],
   "source": [
    "excluded_sites = HYDRoSWOT[HYDRoSWOT['site_no'].isin(in_HYDRoSWOT)]\n",
    "excluded_sites = excluded_sites.drop_duplicates(subset=\"site_no\", keep='first')\n",
    "excluded_sites.to_csv('data/excluded_sites_unique.csv', sep=',', encoding='utf-8', index=False)"
   ],
   "metadata": {
    "collapsed": false
   }
  }
 ],
 "metadata": {
  "kernelspec": {
   "display_name": "Python 3",
   "language": "python",
   "name": "python3"
  },
  "language_info": {
   "codemirror_mode": {
    "name": "ipython",
    "version": 2
   },
   "file_extension": ".py",
   "mimetype": "text/x-python",
   "name": "python",
   "nbconvert_exporter": "python",
   "pygments_lexer": "ipython2",
   "version": "2.7.6"
  }
 },
 "nbformat": 4,
 "nbformat_minor": 0
}
